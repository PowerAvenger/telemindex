{
 "cells": [
  {
   "cell_type": "markdown",
   "metadata": {},
   "source": [
    "# Telemindex"
   ]
  },
  {
   "cell_type": "markdown",
   "metadata": {},
   "source": [
    "## Importamos librerías"
   ]
  },
  {
   "cell_type": "code",
   "execution_count": 1,
   "metadata": {},
   "outputs": [],
   "source": [
    "#En pruebas: Uso de la variables mes_seleccionado definida en el archivo 'globals.py'"
   ]
  },
  {
   "cell_type": "code",
   "execution_count": 2,
   "metadata": {},
   "outputs": [],
   "source": [
    "import pandas as pd\n",
    "import plotly.express as px\n",
    "import globals"
   ]
  },
  {
   "cell_type": "markdown",
   "metadata": {},
   "source": [
    "## Importamos el fichero excel"
   ]
  },
  {
   "cell_type": "code",
   "execution_count": 3,
   "metadata": {},
   "outputs": [
    {
     "data": {
      "text/html": [
       "<div>\n",
       "<style scoped>\n",
       "    .dataframe tbody tr th:only-of-type {\n",
       "        vertical-align: middle;\n",
       "    }\n",
       "\n",
       "    .dataframe tbody tr th {\n",
       "        vertical-align: top;\n",
       "    }\n",
       "\n",
       "    .dataframe thead th {\n",
       "        text-align: right;\n",
       "    }\n",
       "</style>\n",
       "<table border=\"1\" class=\"dataframe\">\n",
       "  <thead>\n",
       "    <tr style=\"text-align: right;\">\n",
       "      <th></th>\n",
       "      <th>fecha</th>\n",
       "      <th>año</th>\n",
       "      <th>mes</th>\n",
       "      <th>mes_nombre</th>\n",
       "      <th>dia</th>\n",
       "      <th>dia_semana</th>\n",
       "      <th>hora</th>\n",
       "      <th>dh_6p</th>\n",
       "      <th>dh_3p</th>\n",
       "      <th>pmh</th>\n",
       "      <th>...</th>\n",
       "      <th>perd_3.0</th>\n",
       "      <th>perd_6.1</th>\n",
       "      <th>pyc_2.0</th>\n",
       "      <th>pyc_3.0</th>\n",
       "      <th>pyc_6.1</th>\n",
       "      <th>precio_2.0</th>\n",
       "      <th>precio_3.0</th>\n",
       "      <th>precio_6.1</th>\n",
       "      <th>demanda_GWh</th>\n",
       "      <th>pvpc</th>\n",
       "    </tr>\n",
       "  </thead>\n",
       "  <tbody>\n",
       "    <tr>\n",
       "      <th>0</th>\n",
       "      <td>2024-10-29</td>\n",
       "      <td>2024</td>\n",
       "      <td>10</td>\n",
       "      <td>octubre</td>\n",
       "      <td>29</td>\n",
       "      <td>martes</td>\n",
       "      <td>23</td>\n",
       "      <td>P5</td>\n",
       "      <td>P2</td>\n",
       "      <td>68.70</td>\n",
       "      <td>...</td>\n",
       "      <td>0.177605</td>\n",
       "      <td>0.055341</td>\n",
       "      <td>27.963</td>\n",
       "      <td>3.561</td>\n",
       "      <td>2.112</td>\n",
       "      <td>117.313040</td>\n",
       "      <td>90.702064</td>\n",
       "      <td>80.023599</td>\n",
       "      <td>0.0</td>\n",
       "      <td>NaN</td>\n",
       "    </tr>\n",
       "    <tr>\n",
       "      <th>1</th>\n",
       "      <td>2024-10-29</td>\n",
       "      <td>2024</td>\n",
       "      <td>10</td>\n",
       "      <td>octubre</td>\n",
       "      <td>29</td>\n",
       "      <td>martes</td>\n",
       "      <td>22</td>\n",
       "      <td>P5</td>\n",
       "      <td>P2</td>\n",
       "      <td>83.22</td>\n",
       "      <td>...</td>\n",
       "      <td>0.168982</td>\n",
       "      <td>0.052654</td>\n",
       "      <td>27.963</td>\n",
       "      <td>3.561</td>\n",
       "      <td>2.112</td>\n",
       "      <td>134.240261</td>\n",
       "      <td>107.292259</td>\n",
       "      <td>95.339058</td>\n",
       "      <td>0.0</td>\n",
       "      <td>NaN</td>\n",
       "    </tr>\n",
       "    <tr>\n",
       "      <th>2</th>\n",
       "      <td>2024-10-29</td>\n",
       "      <td>2024</td>\n",
       "      <td>10</td>\n",
       "      <td>octubre</td>\n",
       "      <td>29</td>\n",
       "      <td>martes</td>\n",
       "      <td>21</td>\n",
       "      <td>P4</td>\n",
       "      <td>P1</td>\n",
       "      <td>90.00</td>\n",
       "      <td>...</td>\n",
       "      <td>0.167201</td>\n",
       "      <td>0.065867</td>\n",
       "      <td>76.974</td>\n",
       "      <td>10.389</td>\n",
       "      <td>8.037</td>\n",
       "      <td>189.532840</td>\n",
       "      <td>121.994522</td>\n",
       "      <td>109.769245</td>\n",
       "      <td>0.0</td>\n",
       "      <td>NaN</td>\n",
       "    </tr>\n",
       "    <tr>\n",
       "      <th>3</th>\n",
       "      <td>2024-10-29</td>\n",
       "      <td>2024</td>\n",
       "      <td>10</td>\n",
       "      <td>octubre</td>\n",
       "      <td>29</td>\n",
       "      <td>martes</td>\n",
       "      <td>20</td>\n",
       "      <td>P4</td>\n",
       "      <td>P1</td>\n",
       "      <td>98.61</td>\n",
       "      <td>...</td>\n",
       "      <td>0.164726</td>\n",
       "      <td>0.064892</td>\n",
       "      <td>76.974</td>\n",
       "      <td>10.389</td>\n",
       "      <td>8.037</td>\n",
       "      <td>199.487855</td>\n",
       "      <td>131.936584</td>\n",
       "      <td>118.982437</td>\n",
       "      <td>0.0</td>\n",
       "      <td>NaN</td>\n",
       "    </tr>\n",
       "    <tr>\n",
       "      <th>4</th>\n",
       "      <td>2024-10-29</td>\n",
       "      <td>2024</td>\n",
       "      <td>10</td>\n",
       "      <td>octubre</td>\n",
       "      <td>29</td>\n",
       "      <td>martes</td>\n",
       "      <td>19</td>\n",
       "      <td>P4</td>\n",
       "      <td>P1</td>\n",
       "      <td>93.34</td>\n",
       "      <td>...</td>\n",
       "      <td>0.165581</td>\n",
       "      <td>0.065229</td>\n",
       "      <td>76.974</td>\n",
       "      <td>10.389</td>\n",
       "      <td>8.037</td>\n",
       "      <td>193.333206</td>\n",
       "      <td>125.791028</td>\n",
       "      <td>113.319554</td>\n",
       "      <td>0.0</td>\n",
       "      <td>NaN</td>\n",
       "    </tr>\n",
       "    <tr>\n",
       "      <th>...</th>\n",
       "      <td>...</td>\n",
       "      <td>...</td>\n",
       "      <td>...</td>\n",
       "      <td>...</td>\n",
       "      <td>...</td>\n",
       "      <td>...</td>\n",
       "      <td>...</td>\n",
       "      <td>...</td>\n",
       "      <td>...</td>\n",
       "      <td>...</td>\n",
       "      <td>...</td>\n",
       "      <td>...</td>\n",
       "      <td>...</td>\n",
       "      <td>...</td>\n",
       "      <td>...</td>\n",
       "      <td>...</td>\n",
       "      <td>...</td>\n",
       "      <td>...</td>\n",
       "      <td>...</td>\n",
       "      <td>...</td>\n",
       "      <td>...</td>\n",
       "    </tr>\n",
       "    <tr>\n",
       "      <th>16047</th>\n",
       "      <td>2023-01-01</td>\n",
       "      <td>2023</td>\n",
       "      <td>1</td>\n",
       "      <td>enero</td>\n",
       "      <td>1</td>\n",
       "      <td>domingo</td>\n",
       "      <td>4</td>\n",
       "      <td>P6</td>\n",
       "      <td>P3</td>\n",
       "      <td>0.00</td>\n",
       "      <td>...</td>\n",
       "      <td>0.278267</td>\n",
       "      <td>0.119037</td>\n",
       "      <td>3.175</td>\n",
       "      <td>2.370</td>\n",
       "      <td>1.426</td>\n",
       "      <td>57.258845</td>\n",
       "      <td>56.453845</td>\n",
       "      <td>48.772747</td>\n",
       "      <td>0.0</td>\n",
       "      <td>NaN</td>\n",
       "    </tr>\n",
       "    <tr>\n",
       "      <th>16048</th>\n",
       "      <td>2023-01-01</td>\n",
       "      <td>2023</td>\n",
       "      <td>1</td>\n",
       "      <td>enero</td>\n",
       "      <td>1</td>\n",
       "      <td>domingo</td>\n",
       "      <td>3</td>\n",
       "      <td>P6</td>\n",
       "      <td>P3</td>\n",
       "      <td>0.00</td>\n",
       "      <td>...</td>\n",
       "      <td>0.271627</td>\n",
       "      <td>0.116196</td>\n",
       "      <td>3.175</td>\n",
       "      <td>2.370</td>\n",
       "      <td>1.426</td>\n",
       "      <td>54.732076</td>\n",
       "      <td>53.927076</td>\n",
       "      <td>46.681249</td>\n",
       "      <td>0.0</td>\n",
       "      <td>NaN</td>\n",
       "    </tr>\n",
       "    <tr>\n",
       "      <th>16049</th>\n",
       "      <td>2023-01-01</td>\n",
       "      <td>2023</td>\n",
       "      <td>1</td>\n",
       "      <td>enero</td>\n",
       "      <td>1</td>\n",
       "      <td>domingo</td>\n",
       "      <td>2</td>\n",
       "      <td>P6</td>\n",
       "      <td>P3</td>\n",
       "      <td>0.00</td>\n",
       "      <td>...</td>\n",
       "      <td>0.260780</td>\n",
       "      <td>0.111556</td>\n",
       "      <td>3.175</td>\n",
       "      <td>2.370</td>\n",
       "      <td>1.426</td>\n",
       "      <td>54.343489</td>\n",
       "      <td>53.538489</td>\n",
       "      <td>46.538253</td>\n",
       "      <td>0.0</td>\n",
       "      <td>NaN</td>\n",
       "    </tr>\n",
       "    <tr>\n",
       "      <th>16050</th>\n",
       "      <td>2023-01-01</td>\n",
       "      <td>2023</td>\n",
       "      <td>1</td>\n",
       "      <td>enero</td>\n",
       "      <td>1</td>\n",
       "      <td>domingo</td>\n",
       "      <td>1</td>\n",
       "      <td>P6</td>\n",
       "      <td>P3</td>\n",
       "      <td>0.00</td>\n",
       "      <td>...</td>\n",
       "      <td>0.246510</td>\n",
       "      <td>0.105451</td>\n",
       "      <td>3.175</td>\n",
       "      <td>2.370</td>\n",
       "      <td>1.426</td>\n",
       "      <td>39.480134</td>\n",
       "      <td>38.675134</td>\n",
       "      <td>33.622745</td>\n",
       "      <td>0.0</td>\n",
       "      <td>NaN</td>\n",
       "    </tr>\n",
       "    <tr>\n",
       "      <th>16051</th>\n",
       "      <td>2023-01-01</td>\n",
       "      <td>2023</td>\n",
       "      <td>1</td>\n",
       "      <td>enero</td>\n",
       "      <td>1</td>\n",
       "      <td>domingo</td>\n",
       "      <td>0</td>\n",
       "      <td>P6</td>\n",
       "      <td>P3</td>\n",
       "      <td>0.00</td>\n",
       "      <td>...</td>\n",
       "      <td>0.236678</td>\n",
       "      <td>0.101246</td>\n",
       "      <td>3.175</td>\n",
       "      <td>2.370</td>\n",
       "      <td>1.426</td>\n",
       "      <td>38.214706</td>\n",
       "      <td>37.409706</td>\n",
       "      <td>32.628395</td>\n",
       "      <td>0.0</td>\n",
       "      <td>NaN</td>\n",
       "    </tr>\n",
       "  </tbody>\n",
       "</table>\n",
       "<p>16052 rows × 32 columns</p>\n",
       "</div>"
      ],
      "text/plain": [
       "           fecha   año  mes mes_nombre  dia dia_semana  hora dh_6p dh_3p  \\\n",
       "0     2024-10-29  2024   10    octubre   29     martes    23    P5    P2   \n",
       "1     2024-10-29  2024   10    octubre   29     martes    22    P5    P2   \n",
       "2     2024-10-29  2024   10    octubre   29     martes    21    P4    P1   \n",
       "3     2024-10-29  2024   10    octubre   29     martes    20    P4    P1   \n",
       "4     2024-10-29  2024   10    octubre   29     martes    19    P4    P1   \n",
       "...          ...   ...  ...        ...  ...        ...   ...   ...   ...   \n",
       "16047 2023-01-01  2023    1      enero    1    domingo     4    P6    P3   \n",
       "16048 2023-01-01  2023    1      enero    1    domingo     3    P6    P3   \n",
       "16049 2023-01-01  2023    1      enero    1    domingo     2    P6    P3   \n",
       "16050 2023-01-01  2023    1      enero    1    domingo     1    P6    P3   \n",
       "16051 2023-01-01  2023    1      enero    1    domingo     0    P6    P3   \n",
       "\n",
       "         pmh  ...  perd_3.0  perd_6.1  pyc_2.0  pyc_3.0  pyc_6.1  precio_2.0  \\\n",
       "0      68.70  ...  0.177605  0.055341   27.963    3.561    2.112  117.313040   \n",
       "1      83.22  ...  0.168982  0.052654   27.963    3.561    2.112  134.240261   \n",
       "2      90.00  ...  0.167201  0.065867   76.974   10.389    8.037  189.532840   \n",
       "3      98.61  ...  0.164726  0.064892   76.974   10.389    8.037  199.487855   \n",
       "4      93.34  ...  0.165581  0.065229   76.974   10.389    8.037  193.333206   \n",
       "...      ...  ...       ...       ...      ...      ...      ...         ...   \n",
       "16047   0.00  ...  0.278267  0.119037    3.175    2.370    1.426   57.258845   \n",
       "16048   0.00  ...  0.271627  0.116196    3.175    2.370    1.426   54.732076   \n",
       "16049   0.00  ...  0.260780  0.111556    3.175    2.370    1.426   54.343489   \n",
       "16050   0.00  ...  0.246510  0.105451    3.175    2.370    1.426   39.480134   \n",
       "16051   0.00  ...  0.236678  0.101246    3.175    2.370    1.426   38.214706   \n",
       "\n",
       "       precio_3.0  precio_6.1  demanda_GWh  pvpc  \n",
       "0       90.702064   80.023599          0.0   NaN  \n",
       "1      107.292259   95.339058          0.0   NaN  \n",
       "2      121.994522  109.769245          0.0   NaN  \n",
       "3      131.936584  118.982437          0.0   NaN  \n",
       "4      125.791028  113.319554          0.0   NaN  \n",
       "...           ...         ...          ...   ...  \n",
       "16047   56.453845   48.772747          0.0   NaN  \n",
       "16048   53.927076   46.681249          0.0   NaN  \n",
       "16049   53.538489   46.538253          0.0   NaN  \n",
       "16050   38.675134   33.622745          0.0   NaN  \n",
       "16051   37.409706   32.628395          0.0   NaN  \n",
       "\n",
       "[16052 rows x 32 columns]"
      ]
     },
     "execution_count": 3,
     "metadata": {},
     "output_type": "execute_result"
    }
   ],
   "source": [
    "df_in=pd.read_excel('data.xlsx')\n",
    "df_in"
   ]
  },
  {
   "cell_type": "markdown",
   "metadata": {},
   "source": [
    "## Filtramos por el año 2024"
   ]
  },
  {
   "cell_type": "code",
   "execution_count": 4,
   "metadata": {},
   "outputs": [
    {
     "data": {
      "text/html": [
       "<div>\n",
       "<style scoped>\n",
       "    .dataframe tbody tr th:only-of-type {\n",
       "        vertical-align: middle;\n",
       "    }\n",
       "\n",
       "    .dataframe tbody tr th {\n",
       "        vertical-align: top;\n",
       "    }\n",
       "\n",
       "    .dataframe thead th {\n",
       "        text-align: right;\n",
       "    }\n",
       "</style>\n",
       "<table border=\"1\" class=\"dataframe\">\n",
       "  <thead>\n",
       "    <tr style=\"text-align: right;\">\n",
       "      <th></th>\n",
       "      <th>año</th>\n",
       "      <th>mes</th>\n",
       "      <th>mes_nombre</th>\n",
       "      <th>dia</th>\n",
       "      <th>dia_semana</th>\n",
       "      <th>hora</th>\n",
       "      <th>dh_6p</th>\n",
       "      <th>dh_3p</th>\n",
       "      <th>pmh</th>\n",
       "      <th>ssaa</th>\n",
       "      <th>...</th>\n",
       "      <th>perd_3.0</th>\n",
       "      <th>perd_6.1</th>\n",
       "      <th>pyc_2.0</th>\n",
       "      <th>pyc_3.0</th>\n",
       "      <th>pyc_6.1</th>\n",
       "      <th>precio_2.0</th>\n",
       "      <th>precio_3.0</th>\n",
       "      <th>precio_6.1</th>\n",
       "      <th>demanda_GWh</th>\n",
       "      <th>pvpc</th>\n",
       "    </tr>\n",
       "    <tr>\n",
       "      <th>fecha</th>\n",
       "      <th></th>\n",
       "      <th></th>\n",
       "      <th></th>\n",
       "      <th></th>\n",
       "      <th></th>\n",
       "      <th></th>\n",
       "      <th></th>\n",
       "      <th></th>\n",
       "      <th></th>\n",
       "      <th></th>\n",
       "      <th></th>\n",
       "      <th></th>\n",
       "      <th></th>\n",
       "      <th></th>\n",
       "      <th></th>\n",
       "      <th></th>\n",
       "      <th></th>\n",
       "      <th></th>\n",
       "      <th></th>\n",
       "      <th></th>\n",
       "      <th></th>\n",
       "    </tr>\n",
       "  </thead>\n",
       "  <tbody>\n",
       "    <tr>\n",
       "      <th>2024-10-29</th>\n",
       "      <td>2024</td>\n",
       "      <td>10</td>\n",
       "      <td>octubre</td>\n",
       "      <td>29</td>\n",
       "      <td>martes</td>\n",
       "      <td>23</td>\n",
       "      <td>P5</td>\n",
       "      <td>P2</td>\n",
       "      <td>68.70</td>\n",
       "      <td>0.00</td>\n",
       "      <td>...</td>\n",
       "      <td>0.177605</td>\n",
       "      <td>0.055341</td>\n",
       "      <td>27.963</td>\n",
       "      <td>3.561</td>\n",
       "      <td>2.112</td>\n",
       "      <td>117.313040</td>\n",
       "      <td>90.702064</td>\n",
       "      <td>80.023599</td>\n",
       "      <td>0.00</td>\n",
       "      <td>NaN</td>\n",
       "    </tr>\n",
       "    <tr>\n",
       "      <th>2024-10-29</th>\n",
       "      <td>2024</td>\n",
       "      <td>10</td>\n",
       "      <td>octubre</td>\n",
       "      <td>29</td>\n",
       "      <td>martes</td>\n",
       "      <td>22</td>\n",
       "      <td>P5</td>\n",
       "      <td>P2</td>\n",
       "      <td>83.22</td>\n",
       "      <td>0.00</td>\n",
       "      <td>...</td>\n",
       "      <td>0.168982</td>\n",
       "      <td>0.052654</td>\n",
       "      <td>27.963</td>\n",
       "      <td>3.561</td>\n",
       "      <td>2.112</td>\n",
       "      <td>134.240261</td>\n",
       "      <td>107.292259</td>\n",
       "      <td>95.339058</td>\n",
       "      <td>0.00</td>\n",
       "      <td>NaN</td>\n",
       "    </tr>\n",
       "    <tr>\n",
       "      <th>2024-10-29</th>\n",
       "      <td>2024</td>\n",
       "      <td>10</td>\n",
       "      <td>octubre</td>\n",
       "      <td>29</td>\n",
       "      <td>martes</td>\n",
       "      <td>21</td>\n",
       "      <td>P4</td>\n",
       "      <td>P1</td>\n",
       "      <td>90.00</td>\n",
       "      <td>0.00</td>\n",
       "      <td>...</td>\n",
       "      <td>0.167201</td>\n",
       "      <td>0.065867</td>\n",
       "      <td>76.974</td>\n",
       "      <td>10.389</td>\n",
       "      <td>8.037</td>\n",
       "      <td>189.532840</td>\n",
       "      <td>121.994522</td>\n",
       "      <td>109.769245</td>\n",
       "      <td>0.00</td>\n",
       "      <td>NaN</td>\n",
       "    </tr>\n",
       "    <tr>\n",
       "      <th>2024-10-29</th>\n",
       "      <td>2024</td>\n",
       "      <td>10</td>\n",
       "      <td>octubre</td>\n",
       "      <td>29</td>\n",
       "      <td>martes</td>\n",
       "      <td>20</td>\n",
       "      <td>P4</td>\n",
       "      <td>P1</td>\n",
       "      <td>98.61</td>\n",
       "      <td>0.00</td>\n",
       "      <td>...</td>\n",
       "      <td>0.164726</td>\n",
       "      <td>0.064892</td>\n",
       "      <td>76.974</td>\n",
       "      <td>10.389</td>\n",
       "      <td>8.037</td>\n",
       "      <td>199.487855</td>\n",
       "      <td>131.936584</td>\n",
       "      <td>118.982437</td>\n",
       "      <td>0.00</td>\n",
       "      <td>NaN</td>\n",
       "    </tr>\n",
       "    <tr>\n",
       "      <th>2024-10-29</th>\n",
       "      <td>2024</td>\n",
       "      <td>10</td>\n",
       "      <td>octubre</td>\n",
       "      <td>29</td>\n",
       "      <td>martes</td>\n",
       "      <td>19</td>\n",
       "      <td>P4</td>\n",
       "      <td>P1</td>\n",
       "      <td>93.34</td>\n",
       "      <td>0.00</td>\n",
       "      <td>...</td>\n",
       "      <td>0.165581</td>\n",
       "      <td>0.065229</td>\n",
       "      <td>76.974</td>\n",
       "      <td>10.389</td>\n",
       "      <td>8.037</td>\n",
       "      <td>193.333206</td>\n",
       "      <td>125.791028</td>\n",
       "      <td>113.319554</td>\n",
       "      <td>0.00</td>\n",
       "      <td>NaN</td>\n",
       "    </tr>\n",
       "    <tr>\n",
       "      <th>...</th>\n",
       "      <td>...</td>\n",
       "      <td>...</td>\n",
       "      <td>...</td>\n",
       "      <td>...</td>\n",
       "      <td>...</td>\n",
       "      <td>...</td>\n",
       "      <td>...</td>\n",
       "      <td>...</td>\n",
       "      <td>...</td>\n",
       "      <td>...</td>\n",
       "      <td>...</td>\n",
       "      <td>...</td>\n",
       "      <td>...</td>\n",
       "      <td>...</td>\n",
       "      <td>...</td>\n",
       "      <td>...</td>\n",
       "      <td>...</td>\n",
       "      <td>...</td>\n",
       "      <td>...</td>\n",
       "      <td>...</td>\n",
       "      <td>...</td>\n",
       "    </tr>\n",
       "    <tr>\n",
       "      <th>2024-01-01</th>\n",
       "      <td>2024</td>\n",
       "      <td>1</td>\n",
       "      <td>enero</td>\n",
       "      <td>1</td>\n",
       "      <td>lunes</td>\n",
       "      <td>4</td>\n",
       "      <td>P6</td>\n",
       "      <td>P3</td>\n",
       "      <td>42.50</td>\n",
       "      <td>22.66</td>\n",
       "      <td>...</td>\n",
       "      <td>0.276025</td>\n",
       "      <td>0.118077</td>\n",
       "      <td>2.752</td>\n",
       "      <td>2.192</td>\n",
       "      <td>1.276</td>\n",
       "      <td>92.215520</td>\n",
       "      <td>91.655520</td>\n",
       "      <td>79.665650</td>\n",
       "      <td>18.14</td>\n",
       "      <td>110.16</td>\n",
       "    </tr>\n",
       "    <tr>\n",
       "      <th>2024-01-01</th>\n",
       "      <td>2024</td>\n",
       "      <td>1</td>\n",
       "      <td>enero</td>\n",
       "      <td>1</td>\n",
       "      <td>lunes</td>\n",
       "      <td>3</td>\n",
       "      <td>P6</td>\n",
       "      <td>P3</td>\n",
       "      <td>43.50</td>\n",
       "      <td>20.85</td>\n",
       "      <td>...</td>\n",
       "      <td>0.268402</td>\n",
       "      <td>0.114816</td>\n",
       "      <td>2.752</td>\n",
       "      <td>2.192</td>\n",
       "      <td>1.276</td>\n",
       "      <td>90.638247</td>\n",
       "      <td>90.078247</td>\n",
       "      <td>78.520475</td>\n",
       "      <td>18.87</td>\n",
       "      <td>109.28</td>\n",
       "    </tr>\n",
       "    <tr>\n",
       "      <th>2024-01-01</th>\n",
       "      <td>2024</td>\n",
       "      <td>1</td>\n",
       "      <td>enero</td>\n",
       "      <td>1</td>\n",
       "      <td>lunes</td>\n",
       "      <td>2</td>\n",
       "      <td>P6</td>\n",
       "      <td>P3</td>\n",
       "      <td>47.50</td>\n",
       "      <td>19.08</td>\n",
       "      <td>...</td>\n",
       "      <td>0.257177</td>\n",
       "      <td>0.110015</td>\n",
       "      <td>2.752</td>\n",
       "      <td>2.192</td>\n",
       "      <td>1.276</td>\n",
       "      <td>92.706049</td>\n",
       "      <td>92.146049</td>\n",
       "      <td>80.700231</td>\n",
       "      <td>20.03</td>\n",
       "      <td>110.77</td>\n",
       "    </tr>\n",
       "    <tr>\n",
       "      <th>2024-01-01</th>\n",
       "      <td>2024</td>\n",
       "      <td>1</td>\n",
       "      <td>enero</td>\n",
       "      <td>1</td>\n",
       "      <td>lunes</td>\n",
       "      <td>1</td>\n",
       "      <td>P6</td>\n",
       "      <td>P3</td>\n",
       "      <td>50.09</td>\n",
       "      <td>20.76</td>\n",
       "      <td>...</td>\n",
       "      <td>0.243274</td>\n",
       "      <td>0.104067</td>\n",
       "      <td>2.752</td>\n",
       "      <td>2.192</td>\n",
       "      <td>1.276</td>\n",
       "      <td>97.099651</td>\n",
       "      <td>96.539651</td>\n",
       "      <td>85.059756</td>\n",
       "      <td>21.20</td>\n",
       "      <td>111.12</td>\n",
       "    </tr>\n",
       "    <tr>\n",
       "      <th>2024-01-01</th>\n",
       "      <td>2024</td>\n",
       "      <td>1</td>\n",
       "      <td>enero</td>\n",
       "      <td>1</td>\n",
       "      <td>lunes</td>\n",
       "      <td>0</td>\n",
       "      <td>P6</td>\n",
       "      <td>P3</td>\n",
       "      <td>63.33</td>\n",
       "      <td>15.41</td>\n",
       "      <td>...</td>\n",
       "      <td>0.237544</td>\n",
       "      <td>0.101616</td>\n",
       "      <td>2.752</td>\n",
       "      <td>2.192</td>\n",
       "      <td>1.276</td>\n",
       "      <td>106.575554</td>\n",
       "      <td>106.015554</td>\n",
       "      <td>93.695892</td>\n",
       "      <td>21.86</td>\n",
       "      <td>123.84</td>\n",
       "    </tr>\n",
       "  </tbody>\n",
       "</table>\n",
       "<p>7286 rows × 31 columns</p>\n",
       "</div>"
      ],
      "text/plain": [
       "             año  mes mes_nombre  dia dia_semana  hora dh_6p dh_3p    pmh  \\\n",
       "fecha                                                                       \n",
       "2024-10-29  2024   10    octubre   29     martes    23    P5    P2  68.70   \n",
       "2024-10-29  2024   10    octubre   29     martes    22    P5    P2  83.22   \n",
       "2024-10-29  2024   10    octubre   29     martes    21    P4    P1  90.00   \n",
       "2024-10-29  2024   10    octubre   29     martes    20    P4    P1  98.61   \n",
       "2024-10-29  2024   10    octubre   29     martes    19    P4    P1  93.34   \n",
       "...          ...  ...        ...  ...        ...   ...   ...   ...    ...   \n",
       "2024-01-01  2024    1      enero    1      lunes     4    P6    P3  42.50   \n",
       "2024-01-01  2024    1      enero    1      lunes     3    P6    P3  43.50   \n",
       "2024-01-01  2024    1      enero    1      lunes     2    P6    P3  47.50   \n",
       "2024-01-01  2024    1      enero    1      lunes     1    P6    P3  50.09   \n",
       "2024-01-01  2024    1      enero    1      lunes     0    P6    P3  63.33   \n",
       "\n",
       "             ssaa  ...  perd_3.0  perd_6.1  pyc_2.0  pyc_3.0  pyc_6.1  \\\n",
       "fecha              ...                                                  \n",
       "2024-10-29   0.00  ...  0.177605  0.055341   27.963    3.561    2.112   \n",
       "2024-10-29   0.00  ...  0.168982  0.052654   27.963    3.561    2.112   \n",
       "2024-10-29   0.00  ...  0.167201  0.065867   76.974   10.389    8.037   \n",
       "2024-10-29   0.00  ...  0.164726  0.064892   76.974   10.389    8.037   \n",
       "2024-10-29   0.00  ...  0.165581  0.065229   76.974   10.389    8.037   \n",
       "...           ...  ...       ...       ...      ...      ...      ...   \n",
       "2024-01-01  22.66  ...  0.276025  0.118077    2.752    2.192    1.276   \n",
       "2024-01-01  20.85  ...  0.268402  0.114816    2.752    2.192    1.276   \n",
       "2024-01-01  19.08  ...  0.257177  0.110015    2.752    2.192    1.276   \n",
       "2024-01-01  20.76  ...  0.243274  0.104067    2.752    2.192    1.276   \n",
       "2024-01-01  15.41  ...  0.237544  0.101616    2.752    2.192    1.276   \n",
       "\n",
       "            precio_2.0  precio_3.0  precio_6.1  demanda_GWh    pvpc  \n",
       "fecha                                                                \n",
       "2024-10-29  117.313040   90.702064   80.023599         0.00     NaN  \n",
       "2024-10-29  134.240261  107.292259   95.339058         0.00     NaN  \n",
       "2024-10-29  189.532840  121.994522  109.769245         0.00     NaN  \n",
       "2024-10-29  199.487855  131.936584  118.982437         0.00     NaN  \n",
       "2024-10-29  193.333206  125.791028  113.319554         0.00     NaN  \n",
       "...                ...         ...         ...          ...     ...  \n",
       "2024-01-01   92.215520   91.655520   79.665650        18.14  110.16  \n",
       "2024-01-01   90.638247   90.078247   78.520475        18.87  109.28  \n",
       "2024-01-01   92.706049   92.146049   80.700231        20.03  110.77  \n",
       "2024-01-01   97.099651   96.539651   85.059756        21.20  111.12  \n",
       "2024-01-01  106.575554  106.015554   93.695892        21.86  123.84  \n",
       "\n",
       "[7286 rows x 31 columns]"
      ]
     },
     "execution_count": 4,
     "metadata": {},
     "output_type": "execute_result"
    }
   ],
   "source": [
    "año=2024 #con cambiar este valor ya sobra para filtrar la tabla\n",
    "filtro_año=df_in['año']==año\n",
    "dffa =df_in[filtro_año].set_index('fecha')\n",
    "dffa "
   ]
  },
  {
   "cell_type": "code",
   "execution_count": 19,
   "metadata": {},
   "outputs": [
    {
     "data": {
      "text/plain": [
       "Index(['año', 'mes', 'mes_nombre', 'dia', 'dia_semana', 'hora', 'dh_6p',\n",
       "       'dh_3p', 'pmh', 'ssaa', 'spot', 'osom', 'ppcc_2.0', 'ppcc_3.0',\n",
       "       'ppcc_6.1', 'Otros', 'perd_2.0_boe', 'perd_3.0_boe', 'perd_6.1_boe',\n",
       "       'coef_k', 'perd_2.0', 'perd_3.0', 'perd_6.1', 'pyc_2.0', 'pyc_3.0',\n",
       "       'pyc_6.1', 'precio_2.0', 'precio_3.0', 'precio_6.1', 'demanda_GWh',\n",
       "       'pvpc'],\n",
       "      dtype='object')"
      ]
     },
     "execution_count": 19,
     "metadata": {},
     "output_type": "execute_result"
    }
   ],
   "source": [
    "dffa.columns"
   ]
  },
  {
   "cell_type": "markdown",
   "metadata": {},
   "source": [
    "### Obtenemos el último registro"
   ]
  },
  {
   "cell_type": "code",
   "execution_count": null,
   "metadata": {},
   "outputs": [],
   "source": []
  },
  {
   "cell_type": "code",
   "execution_count": null,
   "metadata": {},
   "outputs": [],
   "source": []
  },
  {
   "cell_type": "code",
   "execution_count": 5,
   "metadata": {},
   "outputs": [],
   "source": [
    "#usado como texto adicional en el gráfico si rango = todo el año\n",
    "max_reg=dffa.index.max().strftime('%d-%m-%Y')\n",
    "max_reg\n",
    "texto_graf=f'Último día registrado: {max_reg}'\n"
   ]
  },
  {
   "cell_type": "markdown",
   "metadata": {},
   "source": [
    "### Interacción en streamlit: Listado de meses disponibles para usar en un select_box"
   ]
  },
  {
   "cell_type": "code",
   "execution_count": 6,
   "metadata": {},
   "outputs": [
    {
     "data": {
      "text/plain": [
       "['octubre',\n",
       " 'septiembre',\n",
       " 'agosto',\n",
       " 'julio',\n",
       " 'junio',\n",
       " 'mayo',\n",
       " 'abril',\n",
       " 'marzo',\n",
       " 'febrero',\n",
       " 'enero']"
      ]
     },
     "execution_count": 6,
     "metadata": {},
     "output_type": "execute_result"
    }
   ],
   "source": [
    "lista_meses=dffa['mes_nombre'].unique().tolist()\n",
    "lista_meses"
   ]
  },
  {
   "cell_type": "code",
   "execution_count": 7,
   "metadata": {},
   "outputs": [],
   "source": [
    "orden_meses = {\n",
    "    'enero': 1,\n",
    "    'febrero': 2,\n",
    "    'marzo': 3,\n",
    "    'abril': 4,\n",
    "    'mayo': 5,\n",
    "    'junio': 6,\n",
    "    'julio': 7,\n",
    "    'agosto': 8,\n",
    "    'septiembre': 9,\n",
    "    'octubre': 10,\n",
    "    'noviembre': 11,\n",
    "    'diciembre': 12\n",
    "}"
   ]
  },
  {
   "cell_type": "code",
   "execution_count": 8,
   "metadata": {},
   "outputs": [
    {
     "data": {
      "text/plain": [
       "['enero',\n",
       " 'febrero',\n",
       " 'marzo',\n",
       " 'abril',\n",
       " 'mayo',\n",
       " 'junio',\n",
       " 'julio',\n",
       " 'agosto',\n",
       " 'septiembre',\n",
       " 'octubre']"
      ]
     },
     "execution_count": 8,
     "metadata": {},
     "output_type": "execute_result"
    }
   ],
   "source": [
    "lista_meses=sorted(lista_meses,key=lambda x:orden_meses[x])\n",
    "lista_meses"
   ]
  },
  {
   "cell_type": "markdown",
   "metadata": {},
   "source": [
    "## Telemindex horario para streamlit"
   ]
  },
  {
   "cell_type": "markdown",
   "metadata": {},
   "source": [
    "### Inicializamos dffm, que es el la tabla filtrada por el usuario"
   ]
  },
  {
   "cell_type": "code",
   "execution_count": 9,
   "metadata": {},
   "outputs": [],
   "source": [
    "dffa_copia=dffa.copy()"
   ]
  },
  {
   "cell_type": "markdown",
   "metadata": {},
   "source": [
    "## Filtramos el mes seleccionado por el usuario"
   ]
  },
  {
   "cell_type": "code",
   "execution_count": 10,
   "metadata": {},
   "outputs": [],
   "source": [
    "def filtrar_mes(mes_seleccionado=None):\n",
    "        if mes_seleccionado is None: \n",
    "                dffm=dffa_copia\n",
    "        else:\n",
    "                mes_filtro=dffa_copia['mes_nombre']==mes_seleccionado\n",
    "                dffm=dffa_copia[mes_filtro]\n",
    "                #texto_graf=f'{mes}'\n",
    "        return dffm #,texto_graf\n",
    "        \n"
   ]
  },
  {
   "cell_type": "code",
   "execution_count": 21,
   "metadata": {},
   "outputs": [],
   "source": [
    "dffm=filtrar_mes(mes_seleccionado=None)"
   ]
  },
  {
   "cell_type": "code",
   "execution_count": 22,
   "metadata": {},
   "outputs": [
    {
     "data": {
      "text/html": [
       "<div>\n",
       "<style scoped>\n",
       "    .dataframe tbody tr th:only-of-type {\n",
       "        vertical-align: middle;\n",
       "    }\n",
       "\n",
       "    .dataframe tbody tr th {\n",
       "        vertical-align: top;\n",
       "    }\n",
       "\n",
       "    .dataframe thead th {\n",
       "        text-align: right;\n",
       "    }\n",
       "</style>\n",
       "<table border=\"1\" class=\"dataframe\">\n",
       "  <thead>\n",
       "    <tr style=\"text-align: right;\">\n",
       "      <th></th>\n",
       "      <th>año</th>\n",
       "      <th>mes</th>\n",
       "      <th>mes_nombre</th>\n",
       "      <th>dia</th>\n",
       "      <th>dia_semana</th>\n",
       "      <th>hora</th>\n",
       "      <th>dh_6p</th>\n",
       "      <th>dh_3p</th>\n",
       "      <th>pmh</th>\n",
       "      <th>ssaa</th>\n",
       "      <th>...</th>\n",
       "      <th>perd_3.0</th>\n",
       "      <th>perd_6.1</th>\n",
       "      <th>pyc_2.0</th>\n",
       "      <th>pyc_3.0</th>\n",
       "      <th>pyc_6.1</th>\n",
       "      <th>precio_2.0</th>\n",
       "      <th>precio_3.0</th>\n",
       "      <th>precio_6.1</th>\n",
       "      <th>demanda_GWh</th>\n",
       "      <th>pvpc</th>\n",
       "    </tr>\n",
       "    <tr>\n",
       "      <th>fecha</th>\n",
       "      <th></th>\n",
       "      <th></th>\n",
       "      <th></th>\n",
       "      <th></th>\n",
       "      <th></th>\n",
       "      <th></th>\n",
       "      <th></th>\n",
       "      <th></th>\n",
       "      <th></th>\n",
       "      <th></th>\n",
       "      <th></th>\n",
       "      <th></th>\n",
       "      <th></th>\n",
       "      <th></th>\n",
       "      <th></th>\n",
       "      <th></th>\n",
       "      <th></th>\n",
       "      <th></th>\n",
       "      <th></th>\n",
       "      <th></th>\n",
       "      <th></th>\n",
       "    </tr>\n",
       "  </thead>\n",
       "  <tbody>\n",
       "    <tr>\n",
       "      <th>2024-10-29</th>\n",
       "      <td>2024</td>\n",
       "      <td>10</td>\n",
       "      <td>octubre</td>\n",
       "      <td>29</td>\n",
       "      <td>martes</td>\n",
       "      <td>23</td>\n",
       "      <td>P5</td>\n",
       "      <td>P2</td>\n",
       "      <td>68.70</td>\n",
       "      <td>0.00</td>\n",
       "      <td>...</td>\n",
       "      <td>0.177605</td>\n",
       "      <td>0.055341</td>\n",
       "      <td>27.963</td>\n",
       "      <td>3.561</td>\n",
       "      <td>2.112</td>\n",
       "      <td>117.313040</td>\n",
       "      <td>90.702064</td>\n",
       "      <td>80.023599</td>\n",
       "      <td>0.00</td>\n",
       "      <td>NaN</td>\n",
       "    </tr>\n",
       "    <tr>\n",
       "      <th>2024-10-29</th>\n",
       "      <td>2024</td>\n",
       "      <td>10</td>\n",
       "      <td>octubre</td>\n",
       "      <td>29</td>\n",
       "      <td>martes</td>\n",
       "      <td>22</td>\n",
       "      <td>P5</td>\n",
       "      <td>P2</td>\n",
       "      <td>83.22</td>\n",
       "      <td>0.00</td>\n",
       "      <td>...</td>\n",
       "      <td>0.168982</td>\n",
       "      <td>0.052654</td>\n",
       "      <td>27.963</td>\n",
       "      <td>3.561</td>\n",
       "      <td>2.112</td>\n",
       "      <td>134.240261</td>\n",
       "      <td>107.292259</td>\n",
       "      <td>95.339058</td>\n",
       "      <td>0.00</td>\n",
       "      <td>NaN</td>\n",
       "    </tr>\n",
       "    <tr>\n",
       "      <th>2024-10-29</th>\n",
       "      <td>2024</td>\n",
       "      <td>10</td>\n",
       "      <td>octubre</td>\n",
       "      <td>29</td>\n",
       "      <td>martes</td>\n",
       "      <td>21</td>\n",
       "      <td>P4</td>\n",
       "      <td>P1</td>\n",
       "      <td>90.00</td>\n",
       "      <td>0.00</td>\n",
       "      <td>...</td>\n",
       "      <td>0.167201</td>\n",
       "      <td>0.065867</td>\n",
       "      <td>76.974</td>\n",
       "      <td>10.389</td>\n",
       "      <td>8.037</td>\n",
       "      <td>189.532840</td>\n",
       "      <td>121.994522</td>\n",
       "      <td>109.769245</td>\n",
       "      <td>0.00</td>\n",
       "      <td>NaN</td>\n",
       "    </tr>\n",
       "    <tr>\n",
       "      <th>2024-10-29</th>\n",
       "      <td>2024</td>\n",
       "      <td>10</td>\n",
       "      <td>octubre</td>\n",
       "      <td>29</td>\n",
       "      <td>martes</td>\n",
       "      <td>20</td>\n",
       "      <td>P4</td>\n",
       "      <td>P1</td>\n",
       "      <td>98.61</td>\n",
       "      <td>0.00</td>\n",
       "      <td>...</td>\n",
       "      <td>0.164726</td>\n",
       "      <td>0.064892</td>\n",
       "      <td>76.974</td>\n",
       "      <td>10.389</td>\n",
       "      <td>8.037</td>\n",
       "      <td>199.487855</td>\n",
       "      <td>131.936584</td>\n",
       "      <td>118.982437</td>\n",
       "      <td>0.00</td>\n",
       "      <td>NaN</td>\n",
       "    </tr>\n",
       "    <tr>\n",
       "      <th>2024-10-29</th>\n",
       "      <td>2024</td>\n",
       "      <td>10</td>\n",
       "      <td>octubre</td>\n",
       "      <td>29</td>\n",
       "      <td>martes</td>\n",
       "      <td>19</td>\n",
       "      <td>P4</td>\n",
       "      <td>P1</td>\n",
       "      <td>93.34</td>\n",
       "      <td>0.00</td>\n",
       "      <td>...</td>\n",
       "      <td>0.165581</td>\n",
       "      <td>0.065229</td>\n",
       "      <td>76.974</td>\n",
       "      <td>10.389</td>\n",
       "      <td>8.037</td>\n",
       "      <td>193.333206</td>\n",
       "      <td>125.791028</td>\n",
       "      <td>113.319554</td>\n",
       "      <td>0.00</td>\n",
       "      <td>NaN</td>\n",
       "    </tr>\n",
       "    <tr>\n",
       "      <th>...</th>\n",
       "      <td>...</td>\n",
       "      <td>...</td>\n",
       "      <td>...</td>\n",
       "      <td>...</td>\n",
       "      <td>...</td>\n",
       "      <td>...</td>\n",
       "      <td>...</td>\n",
       "      <td>...</td>\n",
       "      <td>...</td>\n",
       "      <td>...</td>\n",
       "      <td>...</td>\n",
       "      <td>...</td>\n",
       "      <td>...</td>\n",
       "      <td>...</td>\n",
       "      <td>...</td>\n",
       "      <td>...</td>\n",
       "      <td>...</td>\n",
       "      <td>...</td>\n",
       "      <td>...</td>\n",
       "      <td>...</td>\n",
       "      <td>...</td>\n",
       "    </tr>\n",
       "    <tr>\n",
       "      <th>2024-01-01</th>\n",
       "      <td>2024</td>\n",
       "      <td>1</td>\n",
       "      <td>enero</td>\n",
       "      <td>1</td>\n",
       "      <td>lunes</td>\n",
       "      <td>4</td>\n",
       "      <td>P6</td>\n",
       "      <td>P3</td>\n",
       "      <td>42.50</td>\n",
       "      <td>22.66</td>\n",
       "      <td>...</td>\n",
       "      <td>0.276025</td>\n",
       "      <td>0.118077</td>\n",
       "      <td>2.752</td>\n",
       "      <td>2.192</td>\n",
       "      <td>1.276</td>\n",
       "      <td>92.215520</td>\n",
       "      <td>91.655520</td>\n",
       "      <td>79.665650</td>\n",
       "      <td>18.14</td>\n",
       "      <td>110.16</td>\n",
       "    </tr>\n",
       "    <tr>\n",
       "      <th>2024-01-01</th>\n",
       "      <td>2024</td>\n",
       "      <td>1</td>\n",
       "      <td>enero</td>\n",
       "      <td>1</td>\n",
       "      <td>lunes</td>\n",
       "      <td>3</td>\n",
       "      <td>P6</td>\n",
       "      <td>P3</td>\n",
       "      <td>43.50</td>\n",
       "      <td>20.85</td>\n",
       "      <td>...</td>\n",
       "      <td>0.268402</td>\n",
       "      <td>0.114816</td>\n",
       "      <td>2.752</td>\n",
       "      <td>2.192</td>\n",
       "      <td>1.276</td>\n",
       "      <td>90.638247</td>\n",
       "      <td>90.078247</td>\n",
       "      <td>78.520475</td>\n",
       "      <td>18.87</td>\n",
       "      <td>109.28</td>\n",
       "    </tr>\n",
       "    <tr>\n",
       "      <th>2024-01-01</th>\n",
       "      <td>2024</td>\n",
       "      <td>1</td>\n",
       "      <td>enero</td>\n",
       "      <td>1</td>\n",
       "      <td>lunes</td>\n",
       "      <td>2</td>\n",
       "      <td>P6</td>\n",
       "      <td>P3</td>\n",
       "      <td>47.50</td>\n",
       "      <td>19.08</td>\n",
       "      <td>...</td>\n",
       "      <td>0.257177</td>\n",
       "      <td>0.110015</td>\n",
       "      <td>2.752</td>\n",
       "      <td>2.192</td>\n",
       "      <td>1.276</td>\n",
       "      <td>92.706049</td>\n",
       "      <td>92.146049</td>\n",
       "      <td>80.700231</td>\n",
       "      <td>20.03</td>\n",
       "      <td>110.77</td>\n",
       "    </tr>\n",
       "    <tr>\n",
       "      <th>2024-01-01</th>\n",
       "      <td>2024</td>\n",
       "      <td>1</td>\n",
       "      <td>enero</td>\n",
       "      <td>1</td>\n",
       "      <td>lunes</td>\n",
       "      <td>1</td>\n",
       "      <td>P6</td>\n",
       "      <td>P3</td>\n",
       "      <td>50.09</td>\n",
       "      <td>20.76</td>\n",
       "      <td>...</td>\n",
       "      <td>0.243274</td>\n",
       "      <td>0.104067</td>\n",
       "      <td>2.752</td>\n",
       "      <td>2.192</td>\n",
       "      <td>1.276</td>\n",
       "      <td>97.099651</td>\n",
       "      <td>96.539651</td>\n",
       "      <td>85.059756</td>\n",
       "      <td>21.20</td>\n",
       "      <td>111.12</td>\n",
       "    </tr>\n",
       "    <tr>\n",
       "      <th>2024-01-01</th>\n",
       "      <td>2024</td>\n",
       "      <td>1</td>\n",
       "      <td>enero</td>\n",
       "      <td>1</td>\n",
       "      <td>lunes</td>\n",
       "      <td>0</td>\n",
       "      <td>P6</td>\n",
       "      <td>P3</td>\n",
       "      <td>63.33</td>\n",
       "      <td>15.41</td>\n",
       "      <td>...</td>\n",
       "      <td>0.237544</td>\n",
       "      <td>0.101616</td>\n",
       "      <td>2.752</td>\n",
       "      <td>2.192</td>\n",
       "      <td>1.276</td>\n",
       "      <td>106.575554</td>\n",
       "      <td>106.015554</td>\n",
       "      <td>93.695892</td>\n",
       "      <td>21.86</td>\n",
       "      <td>123.84</td>\n",
       "    </tr>\n",
       "  </tbody>\n",
       "</table>\n",
       "<p>7286 rows × 31 columns</p>\n",
       "</div>"
      ],
      "text/plain": [
       "             año  mes mes_nombre  dia dia_semana  hora dh_6p dh_3p    pmh  \\\n",
       "fecha                                                                       \n",
       "2024-10-29  2024   10    octubre   29     martes    23    P5    P2  68.70   \n",
       "2024-10-29  2024   10    octubre   29     martes    22    P5    P2  83.22   \n",
       "2024-10-29  2024   10    octubre   29     martes    21    P4    P1  90.00   \n",
       "2024-10-29  2024   10    octubre   29     martes    20    P4    P1  98.61   \n",
       "2024-10-29  2024   10    octubre   29     martes    19    P4    P1  93.34   \n",
       "...          ...  ...        ...  ...        ...   ...   ...   ...    ...   \n",
       "2024-01-01  2024    1      enero    1      lunes     4    P6    P3  42.50   \n",
       "2024-01-01  2024    1      enero    1      lunes     3    P6    P3  43.50   \n",
       "2024-01-01  2024    1      enero    1      lunes     2    P6    P3  47.50   \n",
       "2024-01-01  2024    1      enero    1      lunes     1    P6    P3  50.09   \n",
       "2024-01-01  2024    1      enero    1      lunes     0    P6    P3  63.33   \n",
       "\n",
       "             ssaa  ...  perd_3.0  perd_6.1  pyc_2.0  pyc_3.0  pyc_6.1  \\\n",
       "fecha              ...                                                  \n",
       "2024-10-29   0.00  ...  0.177605  0.055341   27.963    3.561    2.112   \n",
       "2024-10-29   0.00  ...  0.168982  0.052654   27.963    3.561    2.112   \n",
       "2024-10-29   0.00  ...  0.167201  0.065867   76.974   10.389    8.037   \n",
       "2024-10-29   0.00  ...  0.164726  0.064892   76.974   10.389    8.037   \n",
       "2024-10-29   0.00  ...  0.165581  0.065229   76.974   10.389    8.037   \n",
       "...           ...  ...       ...       ...      ...      ...      ...   \n",
       "2024-01-01  22.66  ...  0.276025  0.118077    2.752    2.192    1.276   \n",
       "2024-01-01  20.85  ...  0.268402  0.114816    2.752    2.192    1.276   \n",
       "2024-01-01  19.08  ...  0.257177  0.110015    2.752    2.192    1.276   \n",
       "2024-01-01  20.76  ...  0.243274  0.104067    2.752    2.192    1.276   \n",
       "2024-01-01  15.41  ...  0.237544  0.101616    2.752    2.192    1.276   \n",
       "\n",
       "            precio_2.0  precio_3.0  precio_6.1  demanda_GWh    pvpc  \n",
       "fecha                                                                \n",
       "2024-10-29  117.313040   90.702064   80.023599         0.00     NaN  \n",
       "2024-10-29  134.240261  107.292259   95.339058         0.00     NaN  \n",
       "2024-10-29  189.532840  121.994522  109.769245         0.00     NaN  \n",
       "2024-10-29  199.487855  131.936584  118.982437         0.00     NaN  \n",
       "2024-10-29  193.333206  125.791028  113.319554         0.00     NaN  \n",
       "...                ...         ...         ...          ...     ...  \n",
       "2024-01-01   92.215520   91.655520   79.665650        18.14  110.16  \n",
       "2024-01-01   90.638247   90.078247   78.520475        18.87  109.28  \n",
       "2024-01-01   92.706049   92.146049   80.700231        20.03  110.77  \n",
       "2024-01-01   97.099651   96.539651   85.059756        21.20  111.12  \n",
       "2024-01-01  106.575554  106.015554   93.695892        21.86  123.84  \n",
       "\n",
       "[7286 rows x 31 columns]"
      ]
     },
     "execution_count": 22,
     "metadata": {},
     "output_type": "execute_result"
    }
   ],
   "source": [
    "dffm"
   ]
  },
  {
   "cell_type": "code",
   "execution_count": 27,
   "metadata": {},
   "outputs": [],
   "source": [
    "dffc=dffm.groupby('mes').agg({\n",
    "    'mes_nombre' : 'first',\n",
    "    'spot' : 'mean',\n",
    "    'ssaa' : 'mean',\n",
    "    'ppcc_2.0' : 'mean',\n",
    "    'ppcc_3.0' : 'mean',\n",
    "    'ppcc_6.1' : 'mean',\n",
    "    'Otros' : 'mean',\n",
    "    'perd_2.0' : 'mean',\n",
    "    'perd_3.0' : 'mean',\n",
    "    'perd_6.1' : 'mean',\n",
    "    'pyc_2.0' : 'mean',\n",
    "    'pyc_3.0' : 'mean',\n",
    "    'pyc_6.1' : 'mean'\n",
    "}).reset_index()"
   ]
  },
  {
   "cell_type": "code",
   "execution_count": 28,
   "metadata": {},
   "outputs": [
    {
     "data": {
      "text/html": [
       "<div>\n",
       "<style scoped>\n",
       "    .dataframe tbody tr th:only-of-type {\n",
       "        vertical-align: middle;\n",
       "    }\n",
       "\n",
       "    .dataframe tbody tr th {\n",
       "        vertical-align: top;\n",
       "    }\n",
       "\n",
       "    .dataframe thead th {\n",
       "        text-align: right;\n",
       "    }\n",
       "</style>\n",
       "<table border=\"1\" class=\"dataframe\">\n",
       "  <thead>\n",
       "    <tr style=\"text-align: right;\">\n",
       "      <th></th>\n",
       "      <th>mes</th>\n",
       "      <th>mes_nombre</th>\n",
       "      <th>spot</th>\n",
       "      <th>ssaa</th>\n",
       "      <th>ppcc_2.0</th>\n",
       "      <th>ppcc_3.0</th>\n",
       "      <th>ppcc_6.1</th>\n",
       "      <th>Otros</th>\n",
       "      <th>perd_2.0</th>\n",
       "      <th>perd_3.0</th>\n",
       "      <th>perd_6.1</th>\n",
       "      <th>pyc_2.0</th>\n",
       "      <th>pyc_3.0</th>\n",
       "      <th>pyc_6.1</th>\n",
       "    </tr>\n",
       "  </thead>\n",
       "  <tbody>\n",
       "    <tr>\n",
       "      <th>0</th>\n",
       "      <td>1</td>\n",
       "      <td>enero</td>\n",
       "      <td>74.100094</td>\n",
       "      <td>8.708656</td>\n",
       "      <td>0.255484</td>\n",
       "      <td>0.452715</td>\n",
       "      <td>0.195457</td>\n",
       "      <td>3.695</td>\n",
       "      <td>0.220299</td>\n",
       "      <td>0.223165</td>\n",
       "      <td>0.092489</td>\n",
       "      <td>26.273785</td>\n",
       "      <td>20.450847</td>\n",
       "      <td>14.497793</td>\n",
       "    </tr>\n",
       "    <tr>\n",
       "      <th>1</th>\n",
       "      <td>2</td>\n",
       "      <td>febrero</td>\n",
       "      <td>39.998966</td>\n",
       "      <td>9.432802</td>\n",
       "      <td>0.260690</td>\n",
       "      <td>0.461940</td>\n",
       "      <td>0.199440</td>\n",
       "      <td>3.695</td>\n",
       "      <td>0.211962</td>\n",
       "      <td>0.214824</td>\n",
       "      <td>0.088914</td>\n",
       "      <td>26.753069</td>\n",
       "      <td>20.822892</td>\n",
       "      <td>14.767203</td>\n",
       "    </tr>\n",
       "    <tr>\n",
       "      <th>2</th>\n",
       "      <td>3</td>\n",
       "      <td>marzo</td>\n",
       "      <td>20.305209</td>\n",
       "      <td>12.809596</td>\n",
       "      <td>0.244199</td>\n",
       "      <td>0.222719</td>\n",
       "      <td>0.095249</td>\n",
       "      <td>3.695</td>\n",
       "      <td>0.194138</td>\n",
       "      <td>0.196766</td>\n",
       "      <td>0.081162</td>\n",
       "      <td>25.234832</td>\n",
       "      <td>12.505374</td>\n",
       "      <td>8.691713</td>\n",
       "    </tr>\n",
       "    <tr>\n",
       "      <th>3</th>\n",
       "      <td>4</td>\n",
       "      <td>abril</td>\n",
       "      <td>13.670042</td>\n",
       "      <td>17.371500</td>\n",
       "      <td>0.264000</td>\n",
       "      <td>0.141778</td>\n",
       "      <td>0.058667</td>\n",
       "      <td>3.695</td>\n",
       "      <td>0.182645</td>\n",
       "      <td>0.176022</td>\n",
       "      <td>0.069827</td>\n",
       "      <td>27.057844</td>\n",
       "      <td>4.738989</td>\n",
       "      <td>3.314086</td>\n",
       "    </tr>\n",
       "    <tr>\n",
       "      <th>4</th>\n",
       "      <td>5</td>\n",
       "      <td>mayo</td>\n",
       "      <td>30.398602</td>\n",
       "      <td>14.428468</td>\n",
       "      <td>0.255484</td>\n",
       "      <td>0.137204</td>\n",
       "      <td>0.056774</td>\n",
       "      <td>3.695</td>\n",
       "      <td>0.172730</td>\n",
       "      <td>0.166641</td>\n",
       "      <td>0.066264</td>\n",
       "      <td>26.273785</td>\n",
       "      <td>4.656828</td>\n",
       "      <td>3.248341</td>\n",
       "    </tr>\n",
       "    <tr>\n",
       "      <th>5</th>\n",
       "      <td>6</td>\n",
       "      <td>junio</td>\n",
       "      <td>56.079778</td>\n",
       "      <td>12.100903</td>\n",
       "      <td>0.240000</td>\n",
       "      <td>0.151389</td>\n",
       "      <td>0.063333</td>\n",
       "      <td>3.695</td>\n",
       "      <td>0.157886</td>\n",
       "      <td>0.157895</td>\n",
       "      <td>0.065306</td>\n",
       "      <td>24.848222</td>\n",
       "      <td>7.578111</td>\n",
       "      <td>5.450639</td>\n",
       "    </tr>\n",
       "    <tr>\n",
       "      <th>6</th>\n",
       "      <td>7</td>\n",
       "      <td>julio</td>\n",
       "      <td>72.312836</td>\n",
       "      <td>8.225780</td>\n",
       "      <td>0.267097</td>\n",
       "      <td>0.473293</td>\n",
       "      <td>0.204341</td>\n",
       "      <td>3.695</td>\n",
       "      <td>0.157235</td>\n",
       "      <td>0.159439</td>\n",
       "      <td>0.065885</td>\n",
       "      <td>27.342957</td>\n",
       "      <td>21.280794</td>\n",
       "      <td>15.098784</td>\n",
       "    </tr>\n",
       "    <tr>\n",
       "      <th>7</th>\n",
       "      <td>8</td>\n",
       "      <td>agosto</td>\n",
       "      <td>91.054328</td>\n",
       "      <td>9.203696</td>\n",
       "      <td>0.243871</td>\n",
       "      <td>0.153831</td>\n",
       "      <td>0.064355</td>\n",
       "      <td>3.695</td>\n",
       "      <td>0.162920</td>\n",
       "      <td>0.162927</td>\n",
       "      <td>0.067342</td>\n",
       "      <td>25.204613</td>\n",
       "      <td>7.664984</td>\n",
       "      <td>5.517972</td>\n",
       "    </tr>\n",
       "    <tr>\n",
       "      <th>8</th>\n",
       "      <td>9</td>\n",
       "      <td>septiembre</td>\n",
       "      <td>72.623319</td>\n",
       "      <td>11.213125</td>\n",
       "      <td>0.252000</td>\n",
       "      <td>0.158958</td>\n",
       "      <td>0.066500</td>\n",
       "      <td>3.695</td>\n",
       "      <td>0.154918</td>\n",
       "      <td>0.154932</td>\n",
       "      <td>0.063987</td>\n",
       "      <td>25.953033</td>\n",
       "      <td>7.847417</td>\n",
       "      <td>5.659371</td>\n",
       "    </tr>\n",
       "    <tr>\n",
       "      <th>9</th>\n",
       "      <td>10</td>\n",
       "      <td>octubre</td>\n",
       "      <td>67.202686</td>\n",
       "      <td>14.769367</td>\n",
       "      <td>0.255190</td>\n",
       "      <td>0.137046</td>\n",
       "      <td>0.056709</td>\n",
       "      <td>3.695</td>\n",
       "      <td>0.175197</td>\n",
       "      <td>0.168926</td>\n",
       "      <td>0.067097</td>\n",
       "      <td>26.246717</td>\n",
       "      <td>4.653992</td>\n",
       "      <td>3.246072</td>\n",
       "    </tr>\n",
       "  </tbody>\n",
       "</table>\n",
       "</div>"
      ],
      "text/plain": [
       "   mes  mes_nombre       spot       ssaa  ppcc_2.0  ppcc_3.0  ppcc_6.1  Otros  \\\n",
       "0    1       enero  74.100094   8.708656  0.255484  0.452715  0.195457  3.695   \n",
       "1    2     febrero  39.998966   9.432802  0.260690  0.461940  0.199440  3.695   \n",
       "2    3       marzo  20.305209  12.809596  0.244199  0.222719  0.095249  3.695   \n",
       "3    4       abril  13.670042  17.371500  0.264000  0.141778  0.058667  3.695   \n",
       "4    5        mayo  30.398602  14.428468  0.255484  0.137204  0.056774  3.695   \n",
       "5    6       junio  56.079778  12.100903  0.240000  0.151389  0.063333  3.695   \n",
       "6    7       julio  72.312836   8.225780  0.267097  0.473293  0.204341  3.695   \n",
       "7    8      agosto  91.054328   9.203696  0.243871  0.153831  0.064355  3.695   \n",
       "8    9  septiembre  72.623319  11.213125  0.252000  0.158958  0.066500  3.695   \n",
       "9   10     octubre  67.202686  14.769367  0.255190  0.137046  0.056709  3.695   \n",
       "\n",
       "   perd_2.0  perd_3.0  perd_6.1    pyc_2.0    pyc_3.0    pyc_6.1  \n",
       "0  0.220299  0.223165  0.092489  26.273785  20.450847  14.497793  \n",
       "1  0.211962  0.214824  0.088914  26.753069  20.822892  14.767203  \n",
       "2  0.194138  0.196766  0.081162  25.234832  12.505374   8.691713  \n",
       "3  0.182645  0.176022  0.069827  27.057844   4.738989   3.314086  \n",
       "4  0.172730  0.166641  0.066264  26.273785   4.656828   3.248341  \n",
       "5  0.157886  0.157895  0.065306  24.848222   7.578111   5.450639  \n",
       "6  0.157235  0.159439  0.065885  27.342957  21.280794  15.098784  \n",
       "7  0.162920  0.162927  0.067342  25.204613   7.664984   5.517972  \n",
       "8  0.154918  0.154932  0.063987  25.953033   7.847417   5.659371  \n",
       "9  0.175197  0.168926  0.067097  26.246717   4.653992   3.246072  "
      ]
     },
     "execution_count": 28,
     "metadata": {},
     "output_type": "execute_result"
    }
   ],
   "source": [
    "dffc"
   ]
  },
  {
   "cell_type": "code",
   "execution_count": 11,
   "metadata": {},
   "outputs": [],
   "source": [
    "def aplicar_margen(mes_seleccionado,margen_aplicado):\n",
    "    dffa_copia['precio_2.0']=dffa['precio_2.0'] #+=margen_aplicado #=dffm['precio_2.0']+margen\n",
    "    dffa_copia['precio_3.0']=dffa['precio_3.0'] #+=margen_aplicado #dffm['precio_3.0']+margen\n",
    "    dffa_copia['precio_6.1']=dffa['precio_6.1'] #+=margen_aplicado #dffm['precio_6.1']+margen\n",
    "    dffa_copia['precio_2.0']+=margen_aplicado #=dffm['precio_2.0']+margen\n",
    "    dffa_copia['precio_3.0']+=margen_aplicado #dffm['precio_3.0']+margen\n",
    "    dffa_copia['precio_6.1']+=margen_aplicado #dffm['precio_6.1']+margen\n",
    "    \n",
    "    filtrar_mes(mes_seleccionado)\n",
    "\n",
    "    return dffa_copia"
   ]
  },
  {
   "cell_type": "markdown",
   "metadata": {},
   "source": [
    "### De esta tabla sale el gráfico"
   ]
  },
  {
   "cell_type": "code",
   "execution_count": 165,
   "metadata": {},
   "outputs": [],
   "source": [
    "def pt1():\n",
    "    dffm=filtrar_mes(globals.mes_seleccionado)\n",
    "    \n",
    "    pt1=dffm.pivot_table(\n",
    "        values=['spot','precio_2.0','precio_3.0','precio_6.1'],\n",
    "        index='hora',\n",
    "        aggfunc='mean'\n",
    "    ).reset_index()\n",
    "\n",
    "    pt20=dffm.pivot_table(\n",
    "        values=['spot', 'ssaa', 'osom', 'Otros', 'ppcc_2.0', 'perd_2.0', 'pyc_2.0'],\n",
    "        index='año',\n",
    "        aggfunc='mean'\n",
    "    )\n",
    "    pt20['comp_perd']=pt20['spot']+pt20['ssaa']+pt20['osom']+pt20['Otros']+pt20['ppcc_2.0']\n",
    "    pt20['perdidas_2.0']=pt20['comp_perd']*(pt20['perd_2.0'])\n",
    "    pt20=pt20.drop(columns=['perd_2.0','comp_perd'])\n",
    "    pt20_trans=pt20.transpose().reset_index()\n",
    "    pt20_trans=pt20_trans.rename(columns={'index':'componente',2024:'valor'})\n",
    "    pt20_trans['componente'] = pt20_trans['componente'].replace({'Otros': 'otros'})\n",
    "    pt20_trans=pt20_trans.sort_values(by='valor',ascending=False)\n",
    "    pt20_trans['valor']=round(pt20_trans['valor'],2)\n",
    "    graf20=px.pie(pt20_trans,names='componente',values='valor', hole=.3, color_discrete_sequence=px.colors.sequential.Oranges_r)\n",
    "    \n",
    "    return pt1, pt20_trans, graf20"
   ]
  },
  {
   "cell_type": "code",
   "execution_count": 166,
   "metadata": {},
   "outputs": [],
   "source": [
    "pt1,pt20_trans,graf20=pt1()"
   ]
  },
  {
   "cell_type": "code",
   "execution_count": 167,
   "metadata": {},
   "outputs": [
    {
     "data": {
      "text/html": [
       "<div>\n",
       "<style scoped>\n",
       "    .dataframe tbody tr th:only-of-type {\n",
       "        vertical-align: middle;\n",
       "    }\n",
       "\n",
       "    .dataframe tbody tr th {\n",
       "        vertical-align: top;\n",
       "    }\n",
       "\n",
       "    .dataframe thead th {\n",
       "        text-align: right;\n",
       "    }\n",
       "</style>\n",
       "<table border=\"1\" class=\"dataframe\">\n",
       "  <thead>\n",
       "    <tr style=\"text-align: right;\">\n",
       "      <th>año</th>\n",
       "      <th>componente</th>\n",
       "      <th>valor</th>\n",
       "    </tr>\n",
       "  </thead>\n",
       "  <tbody>\n",
       "    <tr>\n",
       "      <th>4</th>\n",
       "      <td>spot</td>\n",
       "      <td>53.87</td>\n",
       "    </tr>\n",
       "    <tr>\n",
       "      <th>3</th>\n",
       "      <td>pyc_2.0</td>\n",
       "      <td>26.12</td>\n",
       "    </tr>\n",
       "    <tr>\n",
       "      <th>6</th>\n",
       "      <td>perdidas_2.0</td>\n",
       "      <td>12.50</td>\n",
       "    </tr>\n",
       "    <tr>\n",
       "      <th>5</th>\n",
       "      <td>ssaa</td>\n",
       "      <td>11.81</td>\n",
       "    </tr>\n",
       "    <tr>\n",
       "      <th>0</th>\n",
       "      <td>otros</td>\n",
       "      <td>3.70</td>\n",
       "    </tr>\n",
       "    <tr>\n",
       "      <th>2</th>\n",
       "      <td>ppcc_2.0</td>\n",
       "      <td>0.25</td>\n",
       "    </tr>\n",
       "    <tr>\n",
       "      <th>1</th>\n",
       "      <td>osom</td>\n",
       "      <td>0.22</td>\n",
       "    </tr>\n",
       "  </tbody>\n",
       "</table>\n",
       "</div>"
      ],
      "text/plain": [
       "año    componente  valor\n",
       "4            spot  53.87\n",
       "3         pyc_2.0  26.12\n",
       "6    perdidas_2.0  12.50\n",
       "5            ssaa  11.81\n",
       "0           otros   3.70\n",
       "2        ppcc_2.0   0.25\n",
       "1            osom   0.22"
      ]
     },
     "execution_count": 167,
     "metadata": {},
     "output_type": "execute_result"
    }
   ],
   "source": [
    "pt20_trans"
   ]
  },
  {
   "cell_type": "code",
   "execution_count": 168,
   "metadata": {},
   "outputs": [
    {
     "data": {
      "application/vnd.plotly.v1+json": {
       "config": {
        "plotlyServerURL": "https://plot.ly"
       },
       "data": [
        {
         "customdata": [
          [
           53.87
          ],
          [
           26.12
          ],
          [
           12.5
          ],
          [
           11.81
          ],
          [
           3.7
          ],
          [
           0.25
          ],
          [
           0.22
          ]
         ],
         "domain": {
          "x": [
           0,
           1
          ],
          "y": [
           0,
           1
          ]
         },
         "hole": 0.3,
         "hovertemplate": "componente=%{label}<br>valor=%{customdata[0]}<extra></extra>",
         "labels": [
          "spot",
          "pyc_2.0",
          "perdidas_2.0",
          "ssaa",
          "otros",
          "ppcc_2.0",
          "osom"
         ],
         "legendgroup": "",
         "marker": {
          "colors": [
           "rgb(127,39,4)",
           "rgb(166,54,3)",
           "rgb(217,72,1)",
           "rgb(241,105,19)",
           "rgb(253,141,60)",
           "rgb(253,174,107)",
           "rgb(253,208,162)"
          ]
         },
         "name": "",
         "showlegend": true,
         "type": "pie",
         "values": [
          53.87,
          26.12,
          12.5,
          11.81,
          3.7,
          0.25,
          0.22
         ]
        }
       ],
       "layout": {
        "legend": {
         "tracegroupgap": 0
        },
        "margin": {
         "t": 60
        },
        "piecolorway": [
         "rgb(127,39,4)",
         "rgb(166,54,3)",
         "rgb(217,72,1)",
         "rgb(241,105,19)",
         "rgb(253,141,60)",
         "rgb(253,174,107)",
         "rgb(253,208,162)",
         "rgb(254,230,206)",
         "rgb(255,245,235)"
        ],
        "template": {
         "data": {
          "bar": [
           {
            "error_x": {
             "color": "#2a3f5f"
            },
            "error_y": {
             "color": "#2a3f5f"
            },
            "marker": {
             "line": {
              "color": "#E5ECF6",
              "width": 0.5
             },
             "pattern": {
              "fillmode": "overlay",
              "size": 10,
              "solidity": 0.2
             }
            },
            "type": "bar"
           }
          ],
          "barpolar": [
           {
            "marker": {
             "line": {
              "color": "#E5ECF6",
              "width": 0.5
             },
             "pattern": {
              "fillmode": "overlay",
              "size": 10,
              "solidity": 0.2
             }
            },
            "type": "barpolar"
           }
          ],
          "carpet": [
           {
            "aaxis": {
             "endlinecolor": "#2a3f5f",
             "gridcolor": "white",
             "linecolor": "white",
             "minorgridcolor": "white",
             "startlinecolor": "#2a3f5f"
            },
            "baxis": {
             "endlinecolor": "#2a3f5f",
             "gridcolor": "white",
             "linecolor": "white",
             "minorgridcolor": "white",
             "startlinecolor": "#2a3f5f"
            },
            "type": "carpet"
           }
          ],
          "choropleth": [
           {
            "colorbar": {
             "outlinewidth": 0,
             "ticks": ""
            },
            "type": "choropleth"
           }
          ],
          "contour": [
           {
            "colorbar": {
             "outlinewidth": 0,
             "ticks": ""
            },
            "colorscale": [
             [
              0,
              "#0d0887"
             ],
             [
              0.1111111111111111,
              "#46039f"
             ],
             [
              0.2222222222222222,
              "#7201a8"
             ],
             [
              0.3333333333333333,
              "#9c179e"
             ],
             [
              0.4444444444444444,
              "#bd3786"
             ],
             [
              0.5555555555555556,
              "#d8576b"
             ],
             [
              0.6666666666666666,
              "#ed7953"
             ],
             [
              0.7777777777777778,
              "#fb9f3a"
             ],
             [
              0.8888888888888888,
              "#fdca26"
             ],
             [
              1,
              "#f0f921"
             ]
            ],
            "type": "contour"
           }
          ],
          "contourcarpet": [
           {
            "colorbar": {
             "outlinewidth": 0,
             "ticks": ""
            },
            "type": "contourcarpet"
           }
          ],
          "heatmap": [
           {
            "colorbar": {
             "outlinewidth": 0,
             "ticks": ""
            },
            "colorscale": [
             [
              0,
              "#0d0887"
             ],
             [
              0.1111111111111111,
              "#46039f"
             ],
             [
              0.2222222222222222,
              "#7201a8"
             ],
             [
              0.3333333333333333,
              "#9c179e"
             ],
             [
              0.4444444444444444,
              "#bd3786"
             ],
             [
              0.5555555555555556,
              "#d8576b"
             ],
             [
              0.6666666666666666,
              "#ed7953"
             ],
             [
              0.7777777777777778,
              "#fb9f3a"
             ],
             [
              0.8888888888888888,
              "#fdca26"
             ],
             [
              1,
              "#f0f921"
             ]
            ],
            "type": "heatmap"
           }
          ],
          "heatmapgl": [
           {
            "colorbar": {
             "outlinewidth": 0,
             "ticks": ""
            },
            "colorscale": [
             [
              0,
              "#0d0887"
             ],
             [
              0.1111111111111111,
              "#46039f"
             ],
             [
              0.2222222222222222,
              "#7201a8"
             ],
             [
              0.3333333333333333,
              "#9c179e"
             ],
             [
              0.4444444444444444,
              "#bd3786"
             ],
             [
              0.5555555555555556,
              "#d8576b"
             ],
             [
              0.6666666666666666,
              "#ed7953"
             ],
             [
              0.7777777777777778,
              "#fb9f3a"
             ],
             [
              0.8888888888888888,
              "#fdca26"
             ],
             [
              1,
              "#f0f921"
             ]
            ],
            "type": "heatmapgl"
           }
          ],
          "histogram": [
           {
            "marker": {
             "pattern": {
              "fillmode": "overlay",
              "size": 10,
              "solidity": 0.2
             }
            },
            "type": "histogram"
           }
          ],
          "histogram2d": [
           {
            "colorbar": {
             "outlinewidth": 0,
             "ticks": ""
            },
            "colorscale": [
             [
              0,
              "#0d0887"
             ],
             [
              0.1111111111111111,
              "#46039f"
             ],
             [
              0.2222222222222222,
              "#7201a8"
             ],
             [
              0.3333333333333333,
              "#9c179e"
             ],
             [
              0.4444444444444444,
              "#bd3786"
             ],
             [
              0.5555555555555556,
              "#d8576b"
             ],
             [
              0.6666666666666666,
              "#ed7953"
             ],
             [
              0.7777777777777778,
              "#fb9f3a"
             ],
             [
              0.8888888888888888,
              "#fdca26"
             ],
             [
              1,
              "#f0f921"
             ]
            ],
            "type": "histogram2d"
           }
          ],
          "histogram2dcontour": [
           {
            "colorbar": {
             "outlinewidth": 0,
             "ticks": ""
            },
            "colorscale": [
             [
              0,
              "#0d0887"
             ],
             [
              0.1111111111111111,
              "#46039f"
             ],
             [
              0.2222222222222222,
              "#7201a8"
             ],
             [
              0.3333333333333333,
              "#9c179e"
             ],
             [
              0.4444444444444444,
              "#bd3786"
             ],
             [
              0.5555555555555556,
              "#d8576b"
             ],
             [
              0.6666666666666666,
              "#ed7953"
             ],
             [
              0.7777777777777778,
              "#fb9f3a"
             ],
             [
              0.8888888888888888,
              "#fdca26"
             ],
             [
              1,
              "#f0f921"
             ]
            ],
            "type": "histogram2dcontour"
           }
          ],
          "mesh3d": [
           {
            "colorbar": {
             "outlinewidth": 0,
             "ticks": ""
            },
            "type": "mesh3d"
           }
          ],
          "parcoords": [
           {
            "line": {
             "colorbar": {
              "outlinewidth": 0,
              "ticks": ""
             }
            },
            "type": "parcoords"
           }
          ],
          "pie": [
           {
            "automargin": true,
            "type": "pie"
           }
          ],
          "scatter": [
           {
            "fillpattern": {
             "fillmode": "overlay",
             "size": 10,
             "solidity": 0.2
            },
            "type": "scatter"
           }
          ],
          "scatter3d": [
           {
            "line": {
             "colorbar": {
              "outlinewidth": 0,
              "ticks": ""
             }
            },
            "marker": {
             "colorbar": {
              "outlinewidth": 0,
              "ticks": ""
             }
            },
            "type": "scatter3d"
           }
          ],
          "scattercarpet": [
           {
            "marker": {
             "colorbar": {
              "outlinewidth": 0,
              "ticks": ""
             }
            },
            "type": "scattercarpet"
           }
          ],
          "scattergeo": [
           {
            "marker": {
             "colorbar": {
              "outlinewidth": 0,
              "ticks": ""
             }
            },
            "type": "scattergeo"
           }
          ],
          "scattergl": [
           {
            "marker": {
             "colorbar": {
              "outlinewidth": 0,
              "ticks": ""
             }
            },
            "type": "scattergl"
           }
          ],
          "scattermapbox": [
           {
            "marker": {
             "colorbar": {
              "outlinewidth": 0,
              "ticks": ""
             }
            },
            "type": "scattermapbox"
           }
          ],
          "scatterpolar": [
           {
            "marker": {
             "colorbar": {
              "outlinewidth": 0,
              "ticks": ""
             }
            },
            "type": "scatterpolar"
           }
          ],
          "scatterpolargl": [
           {
            "marker": {
             "colorbar": {
              "outlinewidth": 0,
              "ticks": ""
             }
            },
            "type": "scatterpolargl"
           }
          ],
          "scatterternary": [
           {
            "marker": {
             "colorbar": {
              "outlinewidth": 0,
              "ticks": ""
             }
            },
            "type": "scatterternary"
           }
          ],
          "surface": [
           {
            "colorbar": {
             "outlinewidth": 0,
             "ticks": ""
            },
            "colorscale": [
             [
              0,
              "#0d0887"
             ],
             [
              0.1111111111111111,
              "#46039f"
             ],
             [
              0.2222222222222222,
              "#7201a8"
             ],
             [
              0.3333333333333333,
              "#9c179e"
             ],
             [
              0.4444444444444444,
              "#bd3786"
             ],
             [
              0.5555555555555556,
              "#d8576b"
             ],
             [
              0.6666666666666666,
              "#ed7953"
             ],
             [
              0.7777777777777778,
              "#fb9f3a"
             ],
             [
              0.8888888888888888,
              "#fdca26"
             ],
             [
              1,
              "#f0f921"
             ]
            ],
            "type": "surface"
           }
          ],
          "table": [
           {
            "cells": {
             "fill": {
              "color": "#EBF0F8"
             },
             "line": {
              "color": "white"
             }
            },
            "header": {
             "fill": {
              "color": "#C8D4E3"
             },
             "line": {
              "color": "white"
             }
            },
            "type": "table"
           }
          ]
         },
         "layout": {
          "annotationdefaults": {
           "arrowcolor": "#2a3f5f",
           "arrowhead": 0,
           "arrowwidth": 1
          },
          "autotypenumbers": "strict",
          "coloraxis": {
           "colorbar": {
            "outlinewidth": 0,
            "ticks": ""
           }
          },
          "colorscale": {
           "diverging": [
            [
             0,
             "#8e0152"
            ],
            [
             0.1,
             "#c51b7d"
            ],
            [
             0.2,
             "#de77ae"
            ],
            [
             0.3,
             "#f1b6da"
            ],
            [
             0.4,
             "#fde0ef"
            ],
            [
             0.5,
             "#f7f7f7"
            ],
            [
             0.6,
             "#e6f5d0"
            ],
            [
             0.7,
             "#b8e186"
            ],
            [
             0.8,
             "#7fbc41"
            ],
            [
             0.9,
             "#4d9221"
            ],
            [
             1,
             "#276419"
            ]
           ],
           "sequential": [
            [
             0,
             "#0d0887"
            ],
            [
             0.1111111111111111,
             "#46039f"
            ],
            [
             0.2222222222222222,
             "#7201a8"
            ],
            [
             0.3333333333333333,
             "#9c179e"
            ],
            [
             0.4444444444444444,
             "#bd3786"
            ],
            [
             0.5555555555555556,
             "#d8576b"
            ],
            [
             0.6666666666666666,
             "#ed7953"
            ],
            [
             0.7777777777777778,
             "#fb9f3a"
            ],
            [
             0.8888888888888888,
             "#fdca26"
            ],
            [
             1,
             "#f0f921"
            ]
           ],
           "sequentialminus": [
            [
             0,
             "#0d0887"
            ],
            [
             0.1111111111111111,
             "#46039f"
            ],
            [
             0.2222222222222222,
             "#7201a8"
            ],
            [
             0.3333333333333333,
             "#9c179e"
            ],
            [
             0.4444444444444444,
             "#bd3786"
            ],
            [
             0.5555555555555556,
             "#d8576b"
            ],
            [
             0.6666666666666666,
             "#ed7953"
            ],
            [
             0.7777777777777778,
             "#fb9f3a"
            ],
            [
             0.8888888888888888,
             "#fdca26"
            ],
            [
             1,
             "#f0f921"
            ]
           ]
          },
          "colorway": [
           "#636efa",
           "#EF553B",
           "#00cc96",
           "#ab63fa",
           "#FFA15A",
           "#19d3f3",
           "#FF6692",
           "#B6E880",
           "#FF97FF",
           "#FECB52"
          ],
          "font": {
           "color": "#2a3f5f"
          },
          "geo": {
           "bgcolor": "white",
           "lakecolor": "white",
           "landcolor": "#E5ECF6",
           "showlakes": true,
           "showland": true,
           "subunitcolor": "white"
          },
          "hoverlabel": {
           "align": "left"
          },
          "hovermode": "closest",
          "mapbox": {
           "style": "light"
          },
          "paper_bgcolor": "white",
          "plot_bgcolor": "#E5ECF6",
          "polar": {
           "angularaxis": {
            "gridcolor": "white",
            "linecolor": "white",
            "ticks": ""
           },
           "bgcolor": "#E5ECF6",
           "radialaxis": {
            "gridcolor": "white",
            "linecolor": "white",
            "ticks": ""
           }
          },
          "scene": {
           "xaxis": {
            "backgroundcolor": "#E5ECF6",
            "gridcolor": "white",
            "gridwidth": 2,
            "linecolor": "white",
            "showbackground": true,
            "ticks": "",
            "zerolinecolor": "white"
           },
           "yaxis": {
            "backgroundcolor": "#E5ECF6",
            "gridcolor": "white",
            "gridwidth": 2,
            "linecolor": "white",
            "showbackground": true,
            "ticks": "",
            "zerolinecolor": "white"
           },
           "zaxis": {
            "backgroundcolor": "#E5ECF6",
            "gridcolor": "white",
            "gridwidth": 2,
            "linecolor": "white",
            "showbackground": true,
            "ticks": "",
            "zerolinecolor": "white"
           }
          },
          "shapedefaults": {
           "line": {
            "color": "#2a3f5f"
           }
          },
          "ternary": {
           "aaxis": {
            "gridcolor": "white",
            "linecolor": "white",
            "ticks": ""
           },
           "baxis": {
            "gridcolor": "white",
            "linecolor": "white",
            "ticks": ""
           },
           "bgcolor": "#E5ECF6",
           "caxis": {
            "gridcolor": "white",
            "linecolor": "white",
            "ticks": ""
           }
          },
          "title": {
           "x": 0.05
          },
          "xaxis": {
           "automargin": true,
           "gridcolor": "white",
           "linecolor": "white",
           "ticks": "",
           "title": {
            "standoff": 15
           },
           "zerolinecolor": "white",
           "zerolinewidth": 2
          },
          "yaxis": {
           "automargin": true,
           "gridcolor": "white",
           "linecolor": "white",
           "ticks": "",
           "title": {
            "standoff": 15
           },
           "zerolinecolor": "white",
           "zerolinewidth": 2
          }
         }
        }
       }
      }
     },
     "metadata": {},
     "output_type": "display_data"
    }
   ],
   "source": [
    "graf20"
   ]
  },
  {
   "cell_type": "code",
   "execution_count": 169,
   "metadata": {},
   "outputs": [],
   "source": [
    "def pt1_trans():\n",
    "    pt2=pt1()\n",
    "    pt1_trans=pt2.transpose()\n",
    "    pt1_trans=pt1_trans.drop(['hora'])\n",
    "    pt1_trans.columns.name='peajes'\n",
    "    pt1_trans=pt1_trans.round(2)\n",
    "    \n",
    "    return pt1_trans"
   ]
  },
  {
   "cell_type": "code",
   "execution_count": 170,
   "metadata": {},
   "outputs": [
    {
     "ename": "TypeError",
     "evalue": "'DataFrame' object is not callable",
     "output_type": "error",
     "traceback": [
      "\u001b[1;31m---------------------------------------------------------------------------\u001b[0m",
      "\u001b[1;31mTypeError\u001b[0m                                 Traceback (most recent call last)",
      "Cell \u001b[1;32mIn[170], line 1\u001b[0m\n\u001b[1;32m----> 1\u001b[0m pt1_trans()\n",
      "Cell \u001b[1;32mIn[169], line 2\u001b[0m, in \u001b[0;36mpt1_trans\u001b[1;34m()\u001b[0m\n\u001b[0;32m      1\u001b[0m \u001b[38;5;28;01mdef\u001b[39;00m \u001b[38;5;21mpt1_trans\u001b[39m():\n\u001b[1;32m----> 2\u001b[0m     pt2\u001b[38;5;241m=\u001b[39mpt1()\n\u001b[0;32m      3\u001b[0m     pt1_trans\u001b[38;5;241m=\u001b[39mpt2\u001b[38;5;241m.\u001b[39mtranspose()\n\u001b[0;32m      4\u001b[0m     pt1_trans\u001b[38;5;241m=\u001b[39mpt1_trans\u001b[38;5;241m.\u001b[39mdrop([\u001b[38;5;124m'\u001b[39m\u001b[38;5;124mhora\u001b[39m\u001b[38;5;124m'\u001b[39m])\n",
      "\u001b[1;31mTypeError\u001b[0m: 'DataFrame' object is not callable"
     ]
    }
   ],
   "source": [
    "pt1_trans()"
   ]
  },
  {
   "cell_type": "markdown",
   "metadata": {},
   "source": [
    "### Gráfico de salida para visualizar en streamlit"
   ]
  },
  {
   "cell_type": "code",
   "execution_count": 15,
   "metadata": {},
   "outputs": [],
   "source": [
    "def graf_pt1():\n",
    "    pt2=pt1()\n",
    "    colores_precios = {'precio_2.0': 'goldenrod', 'precio_3.0': 'darkred', 'precio_6.1': 'blue'}\n",
    "    graf_pt1=px.line(pt2,x='hora',y=['precio_2.0','precio_3.0','precio_6.1'],\n",
    "        height=600,\n",
    "        width=1000,\n",
    "        title=\"Telemindex 2024: Precios medios horarios de indexado según tarifas de acceso\",\n",
    "        labels={'value':'€/MWh','variable':'Precios s/ ATR'},\n",
    "        color_discrete_map=colores_precios,\n",
    "    )\n",
    "    graf_pt1.update_traces(line=dict(width=4))\n",
    "    graf_pt1.add_annotation(\n",
    "        dict(\n",
    "            font=dict(size=12),\n",
    "            x=0.5,\n",
    "            y=1.05,\n",
    "            showarrow=False,\n",
    "            text=texto_graf,\n",
    "            xref=\"paper\",\n",
    "            yref=\"paper\"\n",
    "        )\n",
    "    )\n",
    "    graf_pt1.update_layout(\n",
    "        margin=dict(t=100),\n",
    "        title_font_size=16,\n",
    "    )\n",
    "    graf_pt1=graf_pt1.add_bar(y=pt2['spot'], name='spot', marker_color='green', width=0.5)\n",
    "    \n",
    "    return graf_pt1"
   ]
  },
  {
   "cell_type": "markdown",
   "metadata": {},
   "source": [
    "## Obtención de la tabla resumen de precios"
   ]
  },
  {
   "cell_type": "code",
   "execution_count": 16,
   "metadata": {},
   "outputs": [],
   "source": [
    "#dffm=filtrar_mes(globals.mes_seleccionado)\n",
    "def pt5_trans():\n",
    "        dffm=filtrar_mes(globals.mes_seleccionado)    \n",
    "        pt3=dffm.pivot_table(\n",
    "                values=['precio_2.0'],\n",
    "                aggfunc='mean',\n",
    "                index='dh_3p'\n",
    "                )\n",
    "        pt4=dffm.pivot_table(\n",
    "                values=['precio_3.0','precio_6.1'],\n",
    "                aggfunc='mean',\n",
    "                index='dh_6p',\n",
    "                )\n",
    "        pt5=pd.concat([pt3,pt4],axis=1)\n",
    "        \n",
    "        \n",
    "        media_20=dffm['precio_2.0'].mean()\n",
    "        media_30=dffm['precio_3.0'].mean()\n",
    "        media_61=dffm['precio_6.1'].mean()\n",
    "        media_spot=dffm['spot'].mean()\n",
    "        precios_medios=[media_20,media_30,media_61]\n",
    "        pt5_trans=pt5.transpose()\n",
    "        pt5_trans['Media']=precios_medios\n",
    "        pt5_trans=pt5_trans.div(10)\n",
    "        pt5_trans=pt5_trans.round(1)\n",
    "        pt5_trans=pt5_trans.fillna('')\n",
    "\n",
    "        return pt5_trans, media_20,media_30,media_61,media_spot\n",
    "\n",
    "        \n"
   ]
  },
  {
   "cell_type": "code",
   "execution_count": 20,
   "metadata": {},
   "outputs": [
    {
     "data": {
      "text/html": [
       "<div>\n",
       "<style scoped>\n",
       "    .dataframe tbody tr th:only-of-type {\n",
       "        vertical-align: middle;\n",
       "    }\n",
       "\n",
       "    .dataframe tbody tr th {\n",
       "        vertical-align: top;\n",
       "    }\n",
       "\n",
       "    .dataframe thead th {\n",
       "        text-align: right;\n",
       "    }\n",
       "</style>\n",
       "<table border=\"1\" class=\"dataframe\">\n",
       "  <thead>\n",
       "    <tr style=\"text-align: right;\">\n",
       "      <th></th>\n",
       "      <th>año</th>\n",
       "      <th>mes</th>\n",
       "      <th>mes_nombre</th>\n",
       "      <th>dia</th>\n",
       "      <th>dia_semana</th>\n",
       "      <th>hora</th>\n",
       "      <th>dh_6p</th>\n",
       "      <th>dh_3p</th>\n",
       "      <th>pmh</th>\n",
       "      <th>ssaa</th>\n",
       "      <th>...</th>\n",
       "      <th>perd_3.0</th>\n",
       "      <th>perd_6.1</th>\n",
       "      <th>pyc_2.0</th>\n",
       "      <th>pyc_3.0</th>\n",
       "      <th>pyc_6.1</th>\n",
       "      <th>precio_2.0</th>\n",
       "      <th>precio_3.0</th>\n",
       "      <th>precio_6.1</th>\n",
       "      <th>demanda_GWh</th>\n",
       "      <th>pvpc</th>\n",
       "    </tr>\n",
       "    <tr>\n",
       "      <th>fecha</th>\n",
       "      <th></th>\n",
       "      <th></th>\n",
       "      <th></th>\n",
       "      <th></th>\n",
       "      <th></th>\n",
       "      <th></th>\n",
       "      <th></th>\n",
       "      <th></th>\n",
       "      <th></th>\n",
       "      <th></th>\n",
       "      <th></th>\n",
       "      <th></th>\n",
       "      <th></th>\n",
       "      <th></th>\n",
       "      <th></th>\n",
       "      <th></th>\n",
       "      <th></th>\n",
       "      <th></th>\n",
       "      <th></th>\n",
       "      <th></th>\n",
       "      <th></th>\n",
       "    </tr>\n",
       "  </thead>\n",
       "  <tbody>\n",
       "    <tr>\n",
       "      <th>2024-10-29</th>\n",
       "      <td>2024</td>\n",
       "      <td>10</td>\n",
       "      <td>octubre</td>\n",
       "      <td>29</td>\n",
       "      <td>martes</td>\n",
       "      <td>23</td>\n",
       "      <td>P5</td>\n",
       "      <td>P2</td>\n",
       "      <td>68.70</td>\n",
       "      <td>0.00</td>\n",
       "      <td>...</td>\n",
       "      <td>0.177605</td>\n",
       "      <td>0.055341</td>\n",
       "      <td>27.963</td>\n",
       "      <td>3.561</td>\n",
       "      <td>2.112</td>\n",
       "      <td>117.313040</td>\n",
       "      <td>90.702064</td>\n",
       "      <td>80.023599</td>\n",
       "      <td>0.00</td>\n",
       "      <td>NaN</td>\n",
       "    </tr>\n",
       "    <tr>\n",
       "      <th>2024-10-29</th>\n",
       "      <td>2024</td>\n",
       "      <td>10</td>\n",
       "      <td>octubre</td>\n",
       "      <td>29</td>\n",
       "      <td>martes</td>\n",
       "      <td>22</td>\n",
       "      <td>P5</td>\n",
       "      <td>P2</td>\n",
       "      <td>83.22</td>\n",
       "      <td>0.00</td>\n",
       "      <td>...</td>\n",
       "      <td>0.168982</td>\n",
       "      <td>0.052654</td>\n",
       "      <td>27.963</td>\n",
       "      <td>3.561</td>\n",
       "      <td>2.112</td>\n",
       "      <td>134.240261</td>\n",
       "      <td>107.292259</td>\n",
       "      <td>95.339058</td>\n",
       "      <td>0.00</td>\n",
       "      <td>NaN</td>\n",
       "    </tr>\n",
       "    <tr>\n",
       "      <th>2024-10-29</th>\n",
       "      <td>2024</td>\n",
       "      <td>10</td>\n",
       "      <td>octubre</td>\n",
       "      <td>29</td>\n",
       "      <td>martes</td>\n",
       "      <td>21</td>\n",
       "      <td>P4</td>\n",
       "      <td>P1</td>\n",
       "      <td>90.00</td>\n",
       "      <td>0.00</td>\n",
       "      <td>...</td>\n",
       "      <td>0.167201</td>\n",
       "      <td>0.065867</td>\n",
       "      <td>76.974</td>\n",
       "      <td>10.389</td>\n",
       "      <td>8.037</td>\n",
       "      <td>189.532840</td>\n",
       "      <td>121.994522</td>\n",
       "      <td>109.769245</td>\n",
       "      <td>0.00</td>\n",
       "      <td>NaN</td>\n",
       "    </tr>\n",
       "    <tr>\n",
       "      <th>2024-10-29</th>\n",
       "      <td>2024</td>\n",
       "      <td>10</td>\n",
       "      <td>octubre</td>\n",
       "      <td>29</td>\n",
       "      <td>martes</td>\n",
       "      <td>20</td>\n",
       "      <td>P4</td>\n",
       "      <td>P1</td>\n",
       "      <td>98.61</td>\n",
       "      <td>0.00</td>\n",
       "      <td>...</td>\n",
       "      <td>0.164726</td>\n",
       "      <td>0.064892</td>\n",
       "      <td>76.974</td>\n",
       "      <td>10.389</td>\n",
       "      <td>8.037</td>\n",
       "      <td>199.487855</td>\n",
       "      <td>131.936584</td>\n",
       "      <td>118.982437</td>\n",
       "      <td>0.00</td>\n",
       "      <td>NaN</td>\n",
       "    </tr>\n",
       "    <tr>\n",
       "      <th>2024-10-29</th>\n",
       "      <td>2024</td>\n",
       "      <td>10</td>\n",
       "      <td>octubre</td>\n",
       "      <td>29</td>\n",
       "      <td>martes</td>\n",
       "      <td>19</td>\n",
       "      <td>P4</td>\n",
       "      <td>P1</td>\n",
       "      <td>93.34</td>\n",
       "      <td>0.00</td>\n",
       "      <td>...</td>\n",
       "      <td>0.165581</td>\n",
       "      <td>0.065229</td>\n",
       "      <td>76.974</td>\n",
       "      <td>10.389</td>\n",
       "      <td>8.037</td>\n",
       "      <td>193.333206</td>\n",
       "      <td>125.791028</td>\n",
       "      <td>113.319554</td>\n",
       "      <td>0.00</td>\n",
       "      <td>NaN</td>\n",
       "    </tr>\n",
       "    <tr>\n",
       "      <th>...</th>\n",
       "      <td>...</td>\n",
       "      <td>...</td>\n",
       "      <td>...</td>\n",
       "      <td>...</td>\n",
       "      <td>...</td>\n",
       "      <td>...</td>\n",
       "      <td>...</td>\n",
       "      <td>...</td>\n",
       "      <td>...</td>\n",
       "      <td>...</td>\n",
       "      <td>...</td>\n",
       "      <td>...</td>\n",
       "      <td>...</td>\n",
       "      <td>...</td>\n",
       "      <td>...</td>\n",
       "      <td>...</td>\n",
       "      <td>...</td>\n",
       "      <td>...</td>\n",
       "      <td>...</td>\n",
       "      <td>...</td>\n",
       "      <td>...</td>\n",
       "    </tr>\n",
       "    <tr>\n",
       "      <th>2024-01-01</th>\n",
       "      <td>2024</td>\n",
       "      <td>1</td>\n",
       "      <td>enero</td>\n",
       "      <td>1</td>\n",
       "      <td>lunes</td>\n",
       "      <td>4</td>\n",
       "      <td>P6</td>\n",
       "      <td>P3</td>\n",
       "      <td>42.50</td>\n",
       "      <td>22.66</td>\n",
       "      <td>...</td>\n",
       "      <td>0.276025</td>\n",
       "      <td>0.118077</td>\n",
       "      <td>2.752</td>\n",
       "      <td>2.192</td>\n",
       "      <td>1.276</td>\n",
       "      <td>92.215520</td>\n",
       "      <td>91.655520</td>\n",
       "      <td>79.665650</td>\n",
       "      <td>18.14</td>\n",
       "      <td>110.16</td>\n",
       "    </tr>\n",
       "    <tr>\n",
       "      <th>2024-01-01</th>\n",
       "      <td>2024</td>\n",
       "      <td>1</td>\n",
       "      <td>enero</td>\n",
       "      <td>1</td>\n",
       "      <td>lunes</td>\n",
       "      <td>3</td>\n",
       "      <td>P6</td>\n",
       "      <td>P3</td>\n",
       "      <td>43.50</td>\n",
       "      <td>20.85</td>\n",
       "      <td>...</td>\n",
       "      <td>0.268402</td>\n",
       "      <td>0.114816</td>\n",
       "      <td>2.752</td>\n",
       "      <td>2.192</td>\n",
       "      <td>1.276</td>\n",
       "      <td>90.638247</td>\n",
       "      <td>90.078247</td>\n",
       "      <td>78.520475</td>\n",
       "      <td>18.87</td>\n",
       "      <td>109.28</td>\n",
       "    </tr>\n",
       "    <tr>\n",
       "      <th>2024-01-01</th>\n",
       "      <td>2024</td>\n",
       "      <td>1</td>\n",
       "      <td>enero</td>\n",
       "      <td>1</td>\n",
       "      <td>lunes</td>\n",
       "      <td>2</td>\n",
       "      <td>P6</td>\n",
       "      <td>P3</td>\n",
       "      <td>47.50</td>\n",
       "      <td>19.08</td>\n",
       "      <td>...</td>\n",
       "      <td>0.257177</td>\n",
       "      <td>0.110015</td>\n",
       "      <td>2.752</td>\n",
       "      <td>2.192</td>\n",
       "      <td>1.276</td>\n",
       "      <td>92.706049</td>\n",
       "      <td>92.146049</td>\n",
       "      <td>80.700231</td>\n",
       "      <td>20.03</td>\n",
       "      <td>110.77</td>\n",
       "    </tr>\n",
       "    <tr>\n",
       "      <th>2024-01-01</th>\n",
       "      <td>2024</td>\n",
       "      <td>1</td>\n",
       "      <td>enero</td>\n",
       "      <td>1</td>\n",
       "      <td>lunes</td>\n",
       "      <td>1</td>\n",
       "      <td>P6</td>\n",
       "      <td>P3</td>\n",
       "      <td>50.09</td>\n",
       "      <td>20.76</td>\n",
       "      <td>...</td>\n",
       "      <td>0.243274</td>\n",
       "      <td>0.104067</td>\n",
       "      <td>2.752</td>\n",
       "      <td>2.192</td>\n",
       "      <td>1.276</td>\n",
       "      <td>97.099651</td>\n",
       "      <td>96.539651</td>\n",
       "      <td>85.059756</td>\n",
       "      <td>21.20</td>\n",
       "      <td>111.12</td>\n",
       "    </tr>\n",
       "    <tr>\n",
       "      <th>2024-01-01</th>\n",
       "      <td>2024</td>\n",
       "      <td>1</td>\n",
       "      <td>enero</td>\n",
       "      <td>1</td>\n",
       "      <td>lunes</td>\n",
       "      <td>0</td>\n",
       "      <td>P6</td>\n",
       "      <td>P3</td>\n",
       "      <td>63.33</td>\n",
       "      <td>15.41</td>\n",
       "      <td>...</td>\n",
       "      <td>0.237544</td>\n",
       "      <td>0.101616</td>\n",
       "      <td>2.752</td>\n",
       "      <td>2.192</td>\n",
       "      <td>1.276</td>\n",
       "      <td>106.575554</td>\n",
       "      <td>106.015554</td>\n",
       "      <td>93.695892</td>\n",
       "      <td>21.86</td>\n",
       "      <td>123.84</td>\n",
       "    </tr>\n",
       "  </tbody>\n",
       "</table>\n",
       "<p>7286 rows × 31 columns</p>\n",
       "</div>"
      ],
      "text/plain": [
       "             año  mes mes_nombre  dia dia_semana  hora dh_6p dh_3p    pmh  \\\n",
       "fecha                                                                       \n",
       "2024-10-29  2024   10    octubre   29     martes    23    P5    P2  68.70   \n",
       "2024-10-29  2024   10    octubre   29     martes    22    P5    P2  83.22   \n",
       "2024-10-29  2024   10    octubre   29     martes    21    P4    P1  90.00   \n",
       "2024-10-29  2024   10    octubre   29     martes    20    P4    P1  98.61   \n",
       "2024-10-29  2024   10    octubre   29     martes    19    P4    P1  93.34   \n",
       "...          ...  ...        ...  ...        ...   ...   ...   ...    ...   \n",
       "2024-01-01  2024    1      enero    1      lunes     4    P6    P3  42.50   \n",
       "2024-01-01  2024    1      enero    1      lunes     3    P6    P3  43.50   \n",
       "2024-01-01  2024    1      enero    1      lunes     2    P6    P3  47.50   \n",
       "2024-01-01  2024    1      enero    1      lunes     1    P6    P3  50.09   \n",
       "2024-01-01  2024    1      enero    1      lunes     0    P6    P3  63.33   \n",
       "\n",
       "             ssaa  ...  perd_3.0  perd_6.1  pyc_2.0  pyc_3.0  pyc_6.1  \\\n",
       "fecha              ...                                                  \n",
       "2024-10-29   0.00  ...  0.177605  0.055341   27.963    3.561    2.112   \n",
       "2024-10-29   0.00  ...  0.168982  0.052654   27.963    3.561    2.112   \n",
       "2024-10-29   0.00  ...  0.167201  0.065867   76.974   10.389    8.037   \n",
       "2024-10-29   0.00  ...  0.164726  0.064892   76.974   10.389    8.037   \n",
       "2024-10-29   0.00  ...  0.165581  0.065229   76.974   10.389    8.037   \n",
       "...           ...  ...       ...       ...      ...      ...      ...   \n",
       "2024-01-01  22.66  ...  0.276025  0.118077    2.752    2.192    1.276   \n",
       "2024-01-01  20.85  ...  0.268402  0.114816    2.752    2.192    1.276   \n",
       "2024-01-01  19.08  ...  0.257177  0.110015    2.752    2.192    1.276   \n",
       "2024-01-01  20.76  ...  0.243274  0.104067    2.752    2.192    1.276   \n",
       "2024-01-01  15.41  ...  0.237544  0.101616    2.752    2.192    1.276   \n",
       "\n",
       "            precio_2.0  precio_3.0  precio_6.1  demanda_GWh    pvpc  \n",
       "fecha                                                                \n",
       "2024-10-29  117.313040   90.702064   80.023599         0.00     NaN  \n",
       "2024-10-29  134.240261  107.292259   95.339058         0.00     NaN  \n",
       "2024-10-29  189.532840  121.994522  109.769245         0.00     NaN  \n",
       "2024-10-29  199.487855  131.936584  118.982437         0.00     NaN  \n",
       "2024-10-29  193.333206  125.791028  113.319554         0.00     NaN  \n",
       "...                ...         ...         ...          ...     ...  \n",
       "2024-01-01   92.215520   91.655520   79.665650        18.14  110.16  \n",
       "2024-01-01   90.638247   90.078247   78.520475        18.87  109.28  \n",
       "2024-01-01   92.706049   92.146049   80.700231        20.03  110.77  \n",
       "2024-01-01   97.099651   96.539651   85.059756        21.20  111.12  \n",
       "2024-01-01  106.575554  106.015554   93.695892        21.86  123.84  \n",
       "\n",
       "[7286 rows x 31 columns]"
      ]
     },
     "execution_count": 20,
     "metadata": {},
     "output_type": "execute_result"
    }
   ],
   "source": [
    "dffa"
   ]
  }
 ],
 "metadata": {
  "kernelspec": {
   "display_name": "base",
   "language": "python",
   "name": "python3"
  },
  "language_info": {
   "codemirror_mode": {
    "name": "ipython",
    "version": 3
   },
   "file_extension": ".py",
   "mimetype": "text/x-python",
   "name": "python",
   "nbconvert_exporter": "python",
   "pygments_lexer": "ipython3",
   "version": "3.11.4"
  }
 },
 "nbformat": 4,
 "nbformat_minor": 2
}
